{
 "cells": [
  {
   "cell_type": "markdown",
   "id": "5ad0826e",
   "metadata": {},
   "source": [
    "# Energy Efficiency (Regression)"
   ]
  },
  {
   "cell_type": "code",
   "execution_count": 1,
   "id": "e5a90293",
   "metadata": {},
   "outputs": [],
   "source": [
    "import pandas as pd"
   ]
  },
  {
   "cell_type": "code",
   "execution_count": 2,
   "id": "9b8feda6",
   "metadata": {},
   "outputs": [
    {
     "data": {
      "text/html": [
       "<div>\n",
       "<style scoped>\n",
       "    .dataframe tbody tr th:only-of-type {\n",
       "        vertical-align: middle;\n",
       "    }\n",
       "\n",
       "    .dataframe tbody tr th {\n",
       "        vertical-align: top;\n",
       "    }\n",
       "\n",
       "    .dataframe thead th {\n",
       "        text-align: right;\n",
       "    }\n",
       "</style>\n",
       "<table border=\"1\" class=\"dataframe\">\n",
       "  <thead>\n",
       "    <tr style=\"text-align: right;\">\n",
       "      <th></th>\n",
       "      <th>X1</th>\n",
       "      <th>X2</th>\n",
       "      <th>X3</th>\n",
       "      <th>X4</th>\n",
       "      <th>X5</th>\n",
       "      <th>X6</th>\n",
       "      <th>X7</th>\n",
       "      <th>X8</th>\n",
       "      <th>Y1</th>\n",
       "      <th>Y2</th>\n",
       "    </tr>\n",
       "  </thead>\n",
       "  <tbody>\n",
       "    <tr>\n",
       "      <th>0</th>\n",
       "      <td>0.98</td>\n",
       "      <td>514.5</td>\n",
       "      <td>294.0</td>\n",
       "      <td>110.25</td>\n",
       "      <td>7.0</td>\n",
       "      <td>2</td>\n",
       "      <td>0.0</td>\n",
       "      <td>0</td>\n",
       "      <td>15.55</td>\n",
       "      <td>21.33</td>\n",
       "    </tr>\n",
       "    <tr>\n",
       "      <th>1</th>\n",
       "      <td>0.98</td>\n",
       "      <td>514.5</td>\n",
       "      <td>294.0</td>\n",
       "      <td>110.25</td>\n",
       "      <td>7.0</td>\n",
       "      <td>3</td>\n",
       "      <td>0.0</td>\n",
       "      <td>0</td>\n",
       "      <td>15.55</td>\n",
       "      <td>21.33</td>\n",
       "    </tr>\n",
       "    <tr>\n",
       "      <th>2</th>\n",
       "      <td>0.98</td>\n",
       "      <td>514.5</td>\n",
       "      <td>294.0</td>\n",
       "      <td>110.25</td>\n",
       "      <td>7.0</td>\n",
       "      <td>4</td>\n",
       "      <td>0.0</td>\n",
       "      <td>0</td>\n",
       "      <td>15.55</td>\n",
       "      <td>21.33</td>\n",
       "    </tr>\n",
       "    <tr>\n",
       "      <th>3</th>\n",
       "      <td>0.98</td>\n",
       "      <td>514.5</td>\n",
       "      <td>294.0</td>\n",
       "      <td>110.25</td>\n",
       "      <td>7.0</td>\n",
       "      <td>5</td>\n",
       "      <td>0.0</td>\n",
       "      <td>0</td>\n",
       "      <td>15.55</td>\n",
       "      <td>21.33</td>\n",
       "    </tr>\n",
       "    <tr>\n",
       "      <th>4</th>\n",
       "      <td>0.90</td>\n",
       "      <td>563.5</td>\n",
       "      <td>318.5</td>\n",
       "      <td>122.50</td>\n",
       "      <td>7.0</td>\n",
       "      <td>2</td>\n",
       "      <td>0.0</td>\n",
       "      <td>0</td>\n",
       "      <td>20.84</td>\n",
       "      <td>28.28</td>\n",
       "    </tr>\n",
       "  </tbody>\n",
       "</table>\n",
       "</div>"
      ],
      "text/plain": [
       "     X1     X2     X3      X4   X5  X6   X7  X8     Y1     Y2\n",
       "0  0.98  514.5  294.0  110.25  7.0   2  0.0   0  15.55  21.33\n",
       "1  0.98  514.5  294.0  110.25  7.0   3  0.0   0  15.55  21.33\n",
       "2  0.98  514.5  294.0  110.25  7.0   4  0.0   0  15.55  21.33\n",
       "3  0.98  514.5  294.0  110.25  7.0   5  0.0   0  15.55  21.33\n",
       "4  0.90  563.5  318.5  122.50  7.0   2  0.0   0  20.84  28.28"
      ]
     },
     "execution_count": 2,
     "metadata": {},
     "output_type": "execute_result"
    }
   ],
   "source": [
    "energy = pd.read_excel(\"ENB2012_data.xlsx\")\n",
    "energy.head()"
   ]
  },
  {
   "cell_type": "code",
   "execution_count": 3,
   "id": "97b6c7f4",
   "metadata": {},
   "outputs": [
    {
     "data": {
      "text/html": [
       "<div>\n",
       "<style scoped>\n",
       "    .dataframe tbody tr th:only-of-type {\n",
       "        vertical-align: middle;\n",
       "    }\n",
       "\n",
       "    .dataframe tbody tr th {\n",
       "        vertical-align: top;\n",
       "    }\n",
       "\n",
       "    .dataframe thead th {\n",
       "        text-align: right;\n",
       "    }\n",
       "</style>\n",
       "<table border=\"1\" class=\"dataframe\">\n",
       "  <thead>\n",
       "    <tr style=\"text-align: right;\">\n",
       "      <th></th>\n",
       "      <th>X1</th>\n",
       "      <th>X2</th>\n",
       "      <th>X3</th>\n",
       "      <th>X4</th>\n",
       "      <th>X5</th>\n",
       "      <th>X6</th>\n",
       "      <th>X7</th>\n",
       "      <th>X8</th>\n",
       "      <th>Y1</th>\n",
       "      <th>Y2</th>\n",
       "    </tr>\n",
       "  </thead>\n",
       "  <tbody>\n",
       "    <tr>\n",
       "      <th>count</th>\n",
       "      <td>768.000000</td>\n",
       "      <td>768.000000</td>\n",
       "      <td>768.000000</td>\n",
       "      <td>768.000000</td>\n",
       "      <td>768.00000</td>\n",
       "      <td>768.000000</td>\n",
       "      <td>768.000000</td>\n",
       "      <td>768.00000</td>\n",
       "      <td>768.000000</td>\n",
       "      <td>768.000000</td>\n",
       "    </tr>\n",
       "    <tr>\n",
       "      <th>mean</th>\n",
       "      <td>0.764167</td>\n",
       "      <td>671.708333</td>\n",
       "      <td>318.500000</td>\n",
       "      <td>176.604167</td>\n",
       "      <td>5.25000</td>\n",
       "      <td>3.500000</td>\n",
       "      <td>0.234375</td>\n",
       "      <td>2.81250</td>\n",
       "      <td>22.307195</td>\n",
       "      <td>24.587760</td>\n",
       "    </tr>\n",
       "    <tr>\n",
       "      <th>std</th>\n",
       "      <td>0.105777</td>\n",
       "      <td>88.086116</td>\n",
       "      <td>43.626481</td>\n",
       "      <td>45.165950</td>\n",
       "      <td>1.75114</td>\n",
       "      <td>1.118763</td>\n",
       "      <td>0.133221</td>\n",
       "      <td>1.55096</td>\n",
       "      <td>10.090204</td>\n",
       "      <td>9.513306</td>\n",
       "    </tr>\n",
       "    <tr>\n",
       "      <th>min</th>\n",
       "      <td>0.620000</td>\n",
       "      <td>514.500000</td>\n",
       "      <td>245.000000</td>\n",
       "      <td>110.250000</td>\n",
       "      <td>3.50000</td>\n",
       "      <td>2.000000</td>\n",
       "      <td>0.000000</td>\n",
       "      <td>0.00000</td>\n",
       "      <td>6.010000</td>\n",
       "      <td>10.900000</td>\n",
       "    </tr>\n",
       "    <tr>\n",
       "      <th>25%</th>\n",
       "      <td>0.682500</td>\n",
       "      <td>606.375000</td>\n",
       "      <td>294.000000</td>\n",
       "      <td>140.875000</td>\n",
       "      <td>3.50000</td>\n",
       "      <td>2.750000</td>\n",
       "      <td>0.100000</td>\n",
       "      <td>1.75000</td>\n",
       "      <td>12.992500</td>\n",
       "      <td>15.620000</td>\n",
       "    </tr>\n",
       "    <tr>\n",
       "      <th>50%</th>\n",
       "      <td>0.750000</td>\n",
       "      <td>673.750000</td>\n",
       "      <td>318.500000</td>\n",
       "      <td>183.750000</td>\n",
       "      <td>5.25000</td>\n",
       "      <td>3.500000</td>\n",
       "      <td>0.250000</td>\n",
       "      <td>3.00000</td>\n",
       "      <td>18.950000</td>\n",
       "      <td>22.080000</td>\n",
       "    </tr>\n",
       "    <tr>\n",
       "      <th>75%</th>\n",
       "      <td>0.830000</td>\n",
       "      <td>741.125000</td>\n",
       "      <td>343.000000</td>\n",
       "      <td>220.500000</td>\n",
       "      <td>7.00000</td>\n",
       "      <td>4.250000</td>\n",
       "      <td>0.400000</td>\n",
       "      <td>4.00000</td>\n",
       "      <td>31.667500</td>\n",
       "      <td>33.132500</td>\n",
       "    </tr>\n",
       "    <tr>\n",
       "      <th>max</th>\n",
       "      <td>0.980000</td>\n",
       "      <td>808.500000</td>\n",
       "      <td>416.500000</td>\n",
       "      <td>220.500000</td>\n",
       "      <td>7.00000</td>\n",
       "      <td>5.000000</td>\n",
       "      <td>0.400000</td>\n",
       "      <td>5.00000</td>\n",
       "      <td>43.100000</td>\n",
       "      <td>48.030000</td>\n",
       "    </tr>\n",
       "  </tbody>\n",
       "</table>\n",
       "</div>"
      ],
      "text/plain": [
       "               X1          X2          X3          X4         X5          X6  \\\n",
       "count  768.000000  768.000000  768.000000  768.000000  768.00000  768.000000   \n",
       "mean     0.764167  671.708333  318.500000  176.604167    5.25000    3.500000   \n",
       "std      0.105777   88.086116   43.626481   45.165950    1.75114    1.118763   \n",
       "min      0.620000  514.500000  245.000000  110.250000    3.50000    2.000000   \n",
       "25%      0.682500  606.375000  294.000000  140.875000    3.50000    2.750000   \n",
       "50%      0.750000  673.750000  318.500000  183.750000    5.25000    3.500000   \n",
       "75%      0.830000  741.125000  343.000000  220.500000    7.00000    4.250000   \n",
       "max      0.980000  808.500000  416.500000  220.500000    7.00000    5.000000   \n",
       "\n",
       "               X7         X8          Y1          Y2  \n",
       "count  768.000000  768.00000  768.000000  768.000000  \n",
       "mean     0.234375    2.81250   22.307195   24.587760  \n",
       "std      0.133221    1.55096   10.090204    9.513306  \n",
       "min      0.000000    0.00000    6.010000   10.900000  \n",
       "25%      0.100000    1.75000   12.992500   15.620000  \n",
       "50%      0.250000    3.00000   18.950000   22.080000  \n",
       "75%      0.400000    4.00000   31.667500   33.132500  \n",
       "max      0.400000    5.00000   43.100000   48.030000  "
      ]
     },
     "execution_count": 3,
     "metadata": {},
     "output_type": "execute_result"
    }
   ],
   "source": [
    "energy.describe()"
   ]
  },
  {
   "cell_type": "code",
   "execution_count": 4,
   "id": "7d452c2d",
   "metadata": {},
   "outputs": [
    {
     "name": "stdout",
     "output_type": "stream",
     "text": [
      "X1\n",
      "*********************\n",
      "0.98    64\n",
      "0.90    64\n",
      "0.86    64\n",
      "0.82    64\n",
      "0.79    64\n",
      "0.76    64\n",
      "0.74    64\n",
      "0.71    64\n",
      "0.69    64\n",
      "0.66    64\n",
      "0.64    64\n",
      "0.62    64\n",
      "Name: X1, dtype: int64\n",
      "\n",
      "X2\n",
      "*********************\n",
      "514.5    64\n",
      "563.5    64\n",
      "588.0    64\n",
      "612.5    64\n",
      "637.0    64\n",
      "661.5    64\n",
      "686.0    64\n",
      "710.5    64\n",
      "735.0    64\n",
      "759.5    64\n",
      "784.0    64\n",
      "808.5    64\n",
      "Name: X2, dtype: int64\n",
      "\n",
      "X3\n",
      "*********************\n",
      "294.0    192\n",
      "318.5    192\n",
      "343.0    128\n",
      "416.5     64\n",
      "245.0     64\n",
      "269.5     64\n",
      "367.5     64\n",
      "Name: X3, dtype: int64\n",
      "\n",
      "X4\n",
      "*********************\n",
      "220.50    384\n",
      "147.00    192\n",
      "122.50    128\n",
      "110.25     64\n",
      "Name: X4, dtype: int64\n",
      "\n",
      "X5\n",
      "*********************\n",
      "7.0    384\n",
      "3.5    384\n",
      "Name: X5, dtype: int64\n",
      "\n",
      "X6\n",
      "*********************\n",
      "2    192\n",
      "3    192\n",
      "4    192\n",
      "5    192\n",
      "Name: X6, dtype: int64\n",
      "\n",
      "X7\n",
      "*********************\n",
      "0.10    240\n",
      "0.25    240\n",
      "0.40    240\n",
      "0.00     48\n",
      "Name: X7, dtype: int64\n",
      "\n",
      "X8\n",
      "*********************\n",
      "1    144\n",
      "2    144\n",
      "3    144\n",
      "4    144\n",
      "5    144\n",
      "0     48\n",
      "Name: X8, dtype: int64\n",
      "\n",
      "Y1\n",
      "*********************\n",
      "15.16    6\n",
      "13.00    5\n",
      "15.23    4\n",
      "28.15    4\n",
      "14.60    4\n",
      "        ..\n",
      "33.21    1\n",
      "36.77    1\n",
      "36.71    1\n",
      "37.03    1\n",
      "16.64    1\n",
      "Name: Y1, Length: 587, dtype: int64\n",
      "\n",
      "Y2\n",
      "*********************\n",
      "21.33    4\n",
      "29.79    4\n",
      "14.27    4\n",
      "17.20    4\n",
      "14.28    4\n",
      "        ..\n",
      "14.65    1\n",
      "14.54    1\n",
      "14.39    1\n",
      "14.46    1\n",
      "17.11    1\n",
      "Name: Y2, Length: 636, dtype: int64\n",
      "\n"
     ]
    }
   ],
   "source": [
    "for col in energy.columns:\n",
    "    print(col)\n",
    "    print(\"*********************\")\n",
    "    print(energy[col].value_counts())\n",
    "    print()"
   ]
  },
  {
   "cell_type": "code",
   "execution_count": 5,
   "id": "919b6779",
   "metadata": {},
   "outputs": [
    {
     "data": {
      "text/plain": [
       "X1    0\n",
       "X2    0\n",
       "X3    0\n",
       "X4    0\n",
       "X5    0\n",
       "X6    0\n",
       "X7    0\n",
       "X8    0\n",
       "Y1    0\n",
       "Y2    0\n",
       "dtype: int64"
      ]
     },
     "execution_count": 5,
     "metadata": {},
     "output_type": "execute_result"
    }
   ],
   "source": [
    "energy.isna().sum()"
   ]
  },
  {
   "cell_type": "code",
   "execution_count": 6,
   "id": "dc439ce2",
   "metadata": {},
   "outputs": [],
   "source": [
    "from sklearn.model_selection import train_test_split\n",
    "from sklearn.preprocessing import StandardScaler"
   ]
  },
  {
   "cell_type": "code",
   "execution_count": 7,
   "id": "a7433164",
   "metadata": {
    "scrolled": true
   },
   "outputs": [
    {
     "name": "stderr",
     "output_type": "stream",
     "text": [
      "C:\\Users\\Seneca\\AppData\\Local\\Temp/ipykernel_6068/2382515809.py:1: FutureWarning: In a future version of pandas all arguments of DataFrame.drop except for the argument 'labels' will be keyword-only\n",
      "  X = energy.drop(['Y1', 'Y2'], 1).to_numpy()\n",
      "C:\\Users\\Seneca\\AppData\\Local\\Temp/ipykernel_6068/2382515809.py:2: FutureWarning: In a future version of pandas all arguments of DataFrame.drop except for the argument 'labels' will be keyword-only\n",
      "  y = energy.drop(['X1', 'X2', 'X3', 'X4', 'X5', 'X6', 'X7', 'X8'], 1).to_numpy()\n"
     ]
    }
   ],
   "source": [
    "X = energy.drop(['Y1', 'Y2'], 1).to_numpy()\n",
    "y = energy.drop(['X1', 'X2', 'X3', 'X4', 'X5', 'X6', 'X7', 'X8'], 1).to_numpy()\n",
    "\n",
    "X_train, X_test, y_train, y_test = train_test_split(X, y, test_size=0.33, random_state=42)\n",
    "\n",
    "scaler = StandardScaler()\n",
    "scaler.fit(X)\n",
    "X_train_s = scaler.transform(X_train)\n",
    "X_test_s = scaler.transform(X_test)"
   ]
  },
  {
   "cell_type": "markdown",
   "id": "19a088b5",
   "metadata": {},
   "source": [
    "## Linear & Polynomial Regression"
   ]
  },
  {
   "cell_type": "code",
   "execution_count": 8,
   "id": "df3b1fcd",
   "metadata": {},
   "outputs": [],
   "source": [
    "from sklearn.linear_model import LinearRegression\n",
    "from sklearn.metrics import mean_squared_error, explained_variance_score\n",
    "from sklearn.preprocessing import PolynomialFeatures\n",
    "import matplotlib.pyplot as plt"
   ]
  },
  {
   "cell_type": "markdown",
   "id": "eddd8603",
   "metadata": {},
   "source": [
    "### Find best polynomial degree"
   ]
  },
  {
   "cell_type": "code",
   "execution_count": 30,
   "id": "c49fd461",
   "metadata": {},
   "outputs": [],
   "source": [
    "def run_polynomial_reg(X_tr, X_te):\n",
    "    test_error = []\n",
    "    test_var = []\n",
    "    train_error = []\n",
    "    train_var = []\n",
    "    degrees = list(range(1, 11))\n",
    "    \n",
    "    # linear regression\n",
    "    print(\"Degree: 1\")\n",
    "    lin_reg = LinearRegression()\n",
    "    lin_reg = lin_reg.fit(X_tr, y_train)\n",
    "    y_pred = lin_reg.predict(X_te)\n",
    "    test_error.append(mean_squared_error(y_test, y_pred))\n",
    "    test_var.append(explained_variance_score(y_test, y_pred))\n",
    "    print(\"Test MSE: \", mean_squared_error(y_test, y_pred))\n",
    "    print(\"Test Explained Variance: \", explained_variance_score(y_test, y_pred))\n",
    "    \n",
    "    y_pred = lin_reg.predict(X_tr)\n",
    "    train_error.append(mean_squared_error(y_train, y_pred))\n",
    "    train_var.append(explained_variance_score(y_train, y_pred))\n",
    "    \n",
    "    # polynomial regression\n",
    "    for k in range (2, 11):\n",
    "        print(\"Degree: \", k)\n",
    "        pol = PolynomialFeatures(k)\n",
    "        X_train_pol = pol.fit_transform(X_tr)\n",
    "        X_test_pol = pol.fit_transform(X_te)\n",
    "    \n",
    "        # Train\n",
    "        lin_reg = LinearRegression()\n",
    "        lin_reg = lin_reg.fit(X_train_pol, y_train)\n",
    "    \n",
    "        # Test error\n",
    "        y_pred = lin_reg.predict(X_test_pol)\n",
    "        test_error.append(mean_squared_error(y_test, y_pred))\n",
    "        test_var.append(explained_variance_score(y_test, y_pred))\n",
    "        print(\"Test MSE: \", mean_squared_error(y_test, y_pred))\n",
    "        print(\"Test Explained Variance: \", explained_variance_score(y_test, y_pred))\n",
    "    \n",
    "        # Train error\n",
    "        y_pred = lin_reg.predict(X_train_pol)\n",
    "        train_error.append(mean_squared_error(y_train, y_pred))\n",
    "        train_var.append(explained_variance_score(y_train, y_pred))\n",
    "       \n",
    "    # make error plot\n",
    "    plt.plot(degrees, test_error, label=\"Test\")\n",
    "    plt.plot(degrees, train_error, label=\"Train\")\n",
    "    plt.title(\"Polynomial Degree vs Train and Test Error\")\n",
    "    plt.xlabel(\"Polynomial Degree\")\n",
    "    plt.ylabel(\"Mean Squared Error\")\n",
    "    plt.legend()\n",
    "    plt.show()\n",
    "    \n",
    "    # make explained variance plot\n",
    "    plt.plot(degrees, test_var, label=\"Test\")\n",
    "    plt.plot(degrees, train_var, label=\"Train\")\n",
    "    plt.title(\"Polynomial Degree vs Train and Test Explained Variance Score\")\n",
    "    plt.xlabel(\"Polynomial Degree\")\n",
    "    plt.ylabel(\"Explained Variance Score\")\n",
    "    plt.legend()\n",
    "    plt.show()"
   ]
  },
  {
   "cell_type": "markdown",
   "id": "297d9367",
   "metadata": {},
   "source": [
    "### Linear and Polynomial Regression Without Scaling"
   ]
  },
  {
   "cell_type": "code",
   "execution_count": 31,
   "id": "00746e28",
   "metadata": {},
   "outputs": [
    {
     "name": "stdout",
     "output_type": "stream",
     "text": [
      "Degree: 1\n",
      "Test MSE:  9.473928887107558\n",
      "Test Explained Variance:  0.9039367329631596\n",
      "Degree:  2\n",
      "Test MSE:  1.776666517087284\n",
      "Test Explained Variance:  0.9812194450573242\n",
      "Degree:  3\n",
      "Test MSE:  1.6434598349914515\n",
      "Test Explained Variance:  0.982552314074946\n",
      "Degree:  4\n",
      "Test MSE:  1.082644402129154\n",
      "Test Explained Variance:  0.9884413310144932\n",
      "Degree:  5\n",
      "Test MSE:  1.9903321686464723\n",
      "Test Explained Variance:  0.9788519320756142\n",
      "Degree:  6\n",
      "Test MSE:  3.7020169584381586\n",
      "Test Explained Variance:  0.9603563709879839\n",
      "Degree:  7\n",
      "Test MSE:  3.5652840333426123\n",
      "Test Explained Variance:  0.9615661401947476\n",
      "Degree:  8\n",
      "Test MSE:  3.283734404865018\n",
      "Test Explained Variance:  0.9647114917427451\n",
      "Degree:  9\n",
      "Test MSE:  3.8333183965856357\n",
      "Test Explained Variance:  0.9587680677234443\n",
      "Degree:  10\n",
      "Test MSE:  3.5961897774523846\n",
      "Test Explained Variance:  0.9613200920313656\n"
     ]
    },
    {
     "data": {
      "image/png": "[encoded data removed]",
      "text/plain": [
       "<Figure size 432x288 with 1 Axes>"
      ]
     },
     "metadata": {
      "needs_background": "light"
     },
     "output_type": "display_data"
    },
    {
     "data": {
      "image/png": "[encoded data removed]",
      "text/plain": [
       "<Figure size 432x288 with 1 Axes>"
      ]
     },
     "metadata": {
      "needs_background": "light"
     },
     "output_type": "display_data"
    }
   ],
   "source": [
    "run_polynomial_reg(X_train, X_test)"
   ]
  },
  {
   "cell_type": "markdown",
   "id": "9552cdb0",
   "metadata": {},
   "source": [
    "### Linear and Polynomial Regression With Scaling"
   ]
  },
  {
   "cell_type": "code",
   "execution_count": 32,
   "id": "99b8b93c",
   "metadata": {},
   "outputs": [
    {
     "name": "stdout",
     "output_type": "stream",
     "text": [
      "Degree: 1\n",
      "Test MSE:  9.494604383689417\n",
      "Test Explained Variance:  0.903859607073465\n",
      "Degree:  2\n",
      "Test MSE:  1.7803196001673411\n",
      "Test Explained Variance:  0.9811703714264455\n",
      "Degree:  3\n",
      "Test MSE:  1.8048407585068111\n",
      "Test Explained Variance:  0.9807061614823389\n",
      "Degree:  4\n",
      "Test MSE:  1.163010164847321\n",
      "Test Explained Variance:  0.9876269648293268\n",
      "Degree:  5\n",
      "Test MSE:  83188428505.0631\n",
      "Test Explained Variance:  -884615746.5392985\n",
      "Degree:  6\n",
      "Test MSE:  6074869586.2866335\n",
      "Test Explained Variance:  -64765644.66045452\n",
      "Degree:  7\n",
      "Test MSE:  519.0339146365108\n",
      "Test Explained Variance:  -4.535582710096245\n",
      "Degree:  8\n",
      "Test MSE:  291.23574444429005\n",
      "Test Explained Variance:  -2.1219878788028774\n",
      "Degree:  9\n",
      "Test MSE:  73.56289493848388\n",
      "Test Explained Variance:  0.21533847054273098\n",
      "Degree:  10\n",
      "Test MSE:  151.6375396264335\n",
      "Test Explained Variance:  -0.6204944250252705\n"
     ]
    },
    {
     "data": {
      "image/png": "[encoded data removed]",
      "text/plain": [
       "<Figure size 432x288 with 1 Axes>"
      ]
     },
     "metadata": {
      "needs_background": "light"
     },
     "output_type": "display_data"
    },
    {
     "data": {
      "image/png": "[encoded data removed]",
      "text/plain": [
       "<Figure size 432x288 with 1 Axes>"
      ]
     },
     "metadata": {
      "needs_background": "light"
     },
     "output_type": "display_data"
    }
   ],
   "source": [
    "run_polynomial_reg(X_train_s, X_test_s)"
   ]
  },
  {
   "cell_type": "markdown",
   "id": "4b53c492",
   "metadata": {},
   "source": [
    "## Support Vector Machine"
   ]
  },
  {
   "cell_type": "code",
   "execution_count": 12,
   "id": "622d8e4a",
   "metadata": {},
   "outputs": [],
   "source": [
    "from sklearn.svm import LinearSVR\n",
    "from sklearn.multioutput import MultiOutputRegressor"
   ]
  },
  {
   "cell_type": "code",
   "execution_count": 13,
   "id": "6f38ea95",
   "metadata": {},
   "outputs": [],
   "source": [
    "def run_svm(X_tr, X_te):\n",
    "    svr = LinearSVR()\n",
    "    multi_svr = MultiOutputRegressor(svr)\n",
    "    multi_svr.fit(X_tr, y_train)\n",
    "    y_pred = multi_svr.predict(X_te)\n",
    "    print(\"Mean Squared Error: \", mean_squared_error(y_test, y_pred))\n",
    "    print(\"Explained Variance Score: \", explained_variance_score(y_test, y_pred))"
   ]
  },
  {
   "cell_type": "markdown",
   "id": "59a94a48",
   "metadata": {},
   "source": [
    "### SVM Without Scaling"
   ]
  },
  {
   "cell_type": "code",
   "execution_count": 14,
   "id": "a0838301",
   "metadata": {},
   "outputs": [
    {
     "name": "stdout",
     "output_type": "stream",
     "text": [
      "Mean Squared Error:  33.438587215816675\n",
      "Explained Variance Score:  0.8251060837734372\n"
     ]
    },
    {
     "name": "stderr",
     "output_type": "stream",
     "text": [
      "C:\\Users\\Seneca\\anaconda3\\lib\\site-packages\\sklearn\\svm\\_base.py:985: ConvergenceWarning: Liblinear failed to converge, increase the number of iterations.\n",
      "  warnings.warn(\"Liblinear failed to converge, increase \"\n",
      "C:\\Users\\Seneca\\anaconda3\\lib\\site-packages\\sklearn\\svm\\_base.py:985: ConvergenceWarning: Liblinear failed to converge, increase the number of iterations.\n",
      "  warnings.warn(\"Liblinear failed to converge, increase \"\n"
     ]
    }
   ],
   "source": [
    "run_svm(X_train, X_test)"
   ]
  },
  {
   "cell_type": "markdown",
   "id": "b2d1c2b5",
   "metadata": {},
   "source": [
    "### SVM With Scaling"
   ]
  },
  {
   "cell_type": "code",
   "execution_count": 15,
   "id": "a75dd879",
   "metadata": {},
   "outputs": [
    {
     "name": "stdout",
     "output_type": "stream",
     "text": [
      "Mean Squared Error:  10.870072827441948\n",
      "Explained Variance Score:  0.8948133892000907\n"
     ]
    }
   ],
   "source": [
    "run_svm(X_train_s, X_test_s)"
   ]
  },
  {
   "cell_type": "markdown",
   "id": "886e131e",
   "metadata": {},
   "source": [
    "## Decision Tree"
   ]
  },
  {
   "cell_type": "code",
   "execution_count": 22,
   "id": "6fd7d85c",
   "metadata": {},
   "outputs": [],
   "source": [
    "from sklearn.tree import DecisionTreeRegressor"
   ]
  },
  {
   "cell_type": "code",
   "execution_count": 23,
   "id": "30114932",
   "metadata": {},
   "outputs": [],
   "source": [
    "def run_dec_tree(X_tr, X_te):\n",
    "    tree = DecisionTreeRegressor(random_state=42)\n",
    "    tree.fit(X_tr, y_train)\n",
    "    y_pred = tree.predict(X_te)\n",
    "    print(\"Mean Squared Error: \", mean_squared_error(y_test, y_pred))\n",
    "    print(\"Explained Variance Score: \", explained_variance_score(y_test, y_pred))"
   ]
  },
  {
   "cell_type": "markdown",
   "id": "3b2f8503",
   "metadata": {},
   "source": [
    "### Decision Tree Without Scaling"
   ]
  },
  {
   "cell_type": "code",
   "execution_count": 24,
   "id": "8cab55d4",
   "metadata": {},
   "outputs": [
    {
     "name": "stdout",
     "output_type": "stream",
     "text": [
      "Mean Squared Error:  2.8324252677165345\n",
      "Explained Variance Score:  0.9696445644623223\n"
     ]
    }
   ],
   "source": [
    "run_dec_tree(X_train, X_test)"
   ]
  },
  {
   "cell_type": "markdown",
   "id": "67f1bc04",
   "metadata": {},
   "source": [
    "### Decision Tree With Scaling"
   ]
  },
  {
   "cell_type": "code",
   "execution_count": 25,
   "id": "68c7e04b",
   "metadata": {},
   "outputs": [
    {
     "name": "stdout",
     "output_type": "stream",
     "text": [
      "Mean Squared Error:  2.879196094488188\n",
      "Explained Variance Score:  0.9690379388604704\n"
     ]
    }
   ],
   "source": [
    "run_dec_tree(X_train_s, X_test_s)"
   ]
  },
  {
   "cell_type": "markdown",
   "id": "03b251dd",
   "metadata": {},
   "source": [
    "## Random Forest Regression"
   ]
  },
  {
   "cell_type": "code",
   "execution_count": 26,
   "id": "a64f7bac",
   "metadata": {},
   "outputs": [],
   "source": [
    "from sklearn.ensemble import RandomForestRegressor"
   ]
  },
  {
   "cell_type": "code",
   "execution_count": 27,
   "id": "64ab9193",
   "metadata": {},
   "outputs": [],
   "source": [
    "def run_rand_forest(X_tr, X_te):\n",
    "    rfr = RandomForestRegressor(random_state=42)\n",
    "    rfr.fit(X_tr, y_train)\n",
    "    y_pred = rfr.predict(X_te)\n",
    "    print(\"Mean Squared Error: \", mean_squared_error(y_test, y_pred))\n",
    "    print(\"Explained Variance Score: \", explained_variance_score(y_test, y_pred))"
   ]
  },
  {
   "cell_type": "markdown",
   "id": "1feb5547",
   "metadata": {},
   "source": [
    "### Random Forest Regression Without Scaling"
   ]
  },
  {
   "cell_type": "code",
   "execution_count": 28,
   "id": "e0d03584",
   "metadata": {},
   "outputs": [
    {
     "name": "stdout",
     "output_type": "stream",
     "text": [
      "Mean Squared Error:  1.7338181172637772\n",
      "Explained Variance Score:  0.981435199815003\n"
     ]
    }
   ],
   "source": [
    "run_rand_forest(X_train, X_test)"
   ]
  },
  {
   "cell_type": "markdown",
   "id": "5875685e",
   "metadata": {},
   "source": [
    "### Random Forest Regression With Scaling"
   ]
  },
  {
   "cell_type": "code",
   "execution_count": 29,
   "id": "e1bf1f3c",
   "metadata": {},
   "outputs": [
    {
     "name": "stdout",
     "output_type": "stream",
     "text": [
      "Mean Squared Error:  1.7540353284251966\n",
      "Explained Variance Score:  0.9811876497266685\n"
     ]
    }
   ],
   "source": [
    "run_rand_forest(X_train_s, X_test_s)"
   ]
  }
 ],
 "metadata": {
  "kernelspec": {
   "display_name": "Python 3 (ipykernel)",
   "language": "python",
   "name": "python3"
  },
  "language_info": {
   "codemirror_mode": {
    "name": "ipython",
    "version": 3
   },
   "file_extension": ".py",
   "mimetype": "text/x-python",
   "name": "python",
   "nbconvert_exporter": "python",
   "pygments_lexer": "ipython3",
   "version": "3.9.7"
  }
 },
 "nbformat": 4,
 "nbformat_minor": 5
}
