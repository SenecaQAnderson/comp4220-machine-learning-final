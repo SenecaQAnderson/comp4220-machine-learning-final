{
 "cells": [
  {
   "cell_type": "markdown",
   "id": "6d2eb503",
   "metadata": {},
   "source": [
    "# Credit Card Fraud Detection (Classification)"
   ]
  },
  {
   "cell_type": "code",
   "execution_count": 1,
   "id": "ac975281",
   "metadata": {},
   "outputs": [],
   "source": [
    "import pandas as pd\n",
    "import numpy as np\n",
    "from sklearn.model_selection import train_test_split\n",
    "import matplotlib.pyplot as plt\n",
    "from imblearn.over_sampling import RandomOverSampler, SMOTE, ADASYN, BorderlineSMOTE\n",
    "from imblearn.under_sampling import RandomUnderSampler, NearMiss"
   ]
  },
  {
   "cell_type": "code",
   "execution_count": 2,
   "id": "84370a32",
   "metadata": {},
   "outputs": [],
   "source": [
    "from sklearn.model_selection import cross_val_predict\n",
    "from sklearn.preprocessing import StandardScaler\n",
    "from sklearn.linear_model import LogisticRegression\n",
    "from sklearn.metrics import precision_score, recall_score, f1_score, accuracy_score\n",
    "from sklearn.metrics import precision_recall_curve, roc_curve, confusion_matrix, ConfusionMatrixDisplay"
   ]
  },
  {
   "cell_type": "code",
   "execution_count": 3,
   "id": "35097f24",
   "metadata": {},
   "outputs": [
    {
     "data": {
      "text/html": [
       "<div>\n",
       "<style scoped>\n",
       "    .dataframe tbody tr th:only-of-type {\n",
       "        vertical-align: middle;\n",
       "    }\n",
       "\n",
       "    .dataframe tbody tr th {\n",
       "        vertical-align: top;\n",
       "    }\n",
       "\n",
       "    .dataframe thead th {\n",
       "        text-align: right;\n",
       "    }\n",
       "</style>\n",
       "<table border=\"1\" class=\"dataframe\">\n",
       "  <thead>\n",
       "    <tr style=\"text-align: right;\">\n",
       "      <th></th>\n",
       "      <th>Time</th>\n",
       "      <th>V1</th>\n",
       "      <th>V2</th>\n",
       "      <th>V3</th>\n",
       "      <th>V4</th>\n",
       "      <th>V5</th>\n",
       "      <th>V6</th>\n",
       "      <th>V7</th>\n",
       "      <th>V8</th>\n",
       "      <th>V9</th>\n",
       "      <th>...</th>\n",
       "      <th>V21</th>\n",
       "      <th>V22</th>\n",
       "      <th>V23</th>\n",
       "      <th>V24</th>\n",
       "      <th>V25</th>\n",
       "      <th>V26</th>\n",
       "      <th>V27</th>\n",
       "      <th>V28</th>\n",
       "      <th>Amount</th>\n",
       "      <th>Class</th>\n",
       "    </tr>\n",
       "  </thead>\n",
       "  <tbody>\n",
       "    <tr>\n",
       "      <th>0</th>\n",
       "      <td>0.0</td>\n",
       "      <td>-1.359807</td>\n",
       "      <td>-0.072781</td>\n",
       "      <td>2.536347</td>\n",
       "      <td>1.378155</td>\n",
       "      <td>-0.338321</td>\n",
       "      <td>0.462388</td>\n",
       "      <td>0.239599</td>\n",
       "      <td>0.098698</td>\n",
       "      <td>0.363787</td>\n",
       "      <td>...</td>\n",
       "      <td>-0.018307</td>\n",
       "      <td>0.277838</td>\n",
       "      <td>-0.110474</td>\n",
       "      <td>0.066928</td>\n",
       "      <td>0.128539</td>\n",
       "      <td>-0.189115</td>\n",
       "      <td>0.133558</td>\n",
       "      <td>-0.021053</td>\n",
       "      <td>149.62</td>\n",
       "      <td>0</td>\n",
       "    </tr>\n",
       "    <tr>\n",
       "      <th>1</th>\n",
       "      <td>0.0</td>\n",
       "      <td>1.191857</td>\n",
       "      <td>0.266151</td>\n",
       "      <td>0.166480</td>\n",
       "      <td>0.448154</td>\n",
       "      <td>0.060018</td>\n",
       "      <td>-0.082361</td>\n",
       "      <td>-0.078803</td>\n",
       "      <td>0.085102</td>\n",
       "      <td>-0.255425</td>\n",
       "      <td>...</td>\n",
       "      <td>-0.225775</td>\n",
       "      <td>-0.638672</td>\n",
       "      <td>0.101288</td>\n",
       "      <td>-0.339846</td>\n",
       "      <td>0.167170</td>\n",
       "      <td>0.125895</td>\n",
       "      <td>-0.008983</td>\n",
       "      <td>0.014724</td>\n",
       "      <td>2.69</td>\n",
       "      <td>0</td>\n",
       "    </tr>\n",
       "    <tr>\n",
       "      <th>2</th>\n",
       "      <td>1.0</td>\n",
       "      <td>-1.358354</td>\n",
       "      <td>-1.340163</td>\n",
       "      <td>1.773209</td>\n",
       "      <td>0.379780</td>\n",
       "      <td>-0.503198</td>\n",
       "      <td>1.800499</td>\n",
       "      <td>0.791461</td>\n",
       "      <td>0.247676</td>\n",
       "      <td>-1.514654</td>\n",
       "      <td>...</td>\n",
       "      <td>0.247998</td>\n",
       "      <td>0.771679</td>\n",
       "      <td>0.909412</td>\n",
       "      <td>-0.689281</td>\n",
       "      <td>-0.327642</td>\n",
       "      <td>-0.139097</td>\n",
       "      <td>-0.055353</td>\n",
       "      <td>-0.059752</td>\n",
       "      <td>378.66</td>\n",
       "      <td>0</td>\n",
       "    </tr>\n",
       "    <tr>\n",
       "      <th>3</th>\n",
       "      <td>1.0</td>\n",
       "      <td>-0.966272</td>\n",
       "      <td>-0.185226</td>\n",
       "      <td>1.792993</td>\n",
       "      <td>-0.863291</td>\n",
       "      <td>-0.010309</td>\n",
       "      <td>1.247203</td>\n",
       "      <td>0.237609</td>\n",
       "      <td>0.377436</td>\n",
       "      <td>-1.387024</td>\n",
       "      <td>...</td>\n",
       "      <td>-0.108300</td>\n",
       "      <td>0.005274</td>\n",
       "      <td>-0.190321</td>\n",
       "      <td>-1.175575</td>\n",
       "      <td>0.647376</td>\n",
       "      <td>-0.221929</td>\n",
       "      <td>0.062723</td>\n",
       "      <td>0.061458</td>\n",
       "      <td>123.50</td>\n",
       "      <td>0</td>\n",
       "    </tr>\n",
       "    <tr>\n",
       "      <th>4</th>\n",
       "      <td>2.0</td>\n",
       "      <td>-1.158233</td>\n",
       "      <td>0.877737</td>\n",
       "      <td>1.548718</td>\n",
       "      <td>0.403034</td>\n",
       "      <td>-0.407193</td>\n",
       "      <td>0.095921</td>\n",
       "      <td>0.592941</td>\n",
       "      <td>-0.270533</td>\n",
       "      <td>0.817739</td>\n",
       "      <td>...</td>\n",
       "      <td>-0.009431</td>\n",
       "      <td>0.798278</td>\n",
       "      <td>-0.137458</td>\n",
       "      <td>0.141267</td>\n",
       "      <td>-0.206010</td>\n",
       "      <td>0.502292</td>\n",
       "      <td>0.219422</td>\n",
       "      <td>0.215153</td>\n",
       "      <td>69.99</td>\n",
       "      <td>0</td>\n",
       "    </tr>\n",
       "  </tbody>\n",
       "</table>\n",
       "<p>5 rows × 31 columns</p>\n",
       "</div>"
      ],
      "text/plain": [
       "   Time        V1        V2        V3        V4        V5        V6        V7  \\\n",
       "0   0.0 -1.359807 -0.072781  2.536347  1.378155 -0.338321  0.462388  0.239599   \n",
       "1   0.0  1.191857  0.266151  0.166480  0.448154  0.060018 -0.082361 -0.078803   \n",
       "2   1.0 -1.358354 -1.340163  1.773209  0.379780 -0.503198  1.800499  0.791461   \n",
       "3   1.0 -0.966272 -0.185226  1.792993 -0.863291 -0.010309  1.247203  0.237609   \n",
       "4   2.0 -1.158233  0.877737  1.548718  0.403034 -0.407193  0.095921  0.592941   \n",
       "\n",
       "         V8        V9  ...       V21       V22       V23       V24       V25  \\\n",
       "0  0.098698  0.363787  ... -0.018307  0.277838 -0.110474  0.066928  0.128539   \n",
       "1  0.085102 -0.255425  ... -0.225775 -0.638672  0.101288 -0.339846  0.167170   \n",
       "2  0.247676 -1.514654  ...  0.247998  0.771679  0.909412 -0.689281 -0.327642   \n",
       "3  0.377436 -1.387024  ... -0.108300  0.005274 -0.190321 -1.175575  0.647376   \n",
       "4 -0.270533  0.817739  ... -0.009431  0.798278 -0.137458  0.141267 -0.206010   \n",
       "\n",
       "        V26       V27       V28  Amount  Class  \n",
       "0 -0.189115  0.133558 -0.021053  149.62      0  \n",
       "1  0.125895 -0.008983  0.014724    2.69      0  \n",
       "2 -0.139097 -0.055353 -0.059752  378.66      0  \n",
       "3 -0.221929  0.062723  0.061458  123.50      0  \n",
       "4  0.502292  0.219422  0.215153   69.99      0  \n",
       "\n",
       "[5 rows x 31 columns]"
      ]
     },
     "execution_count": 3,
     "metadata": {},
     "output_type": "execute_result"
    }
   ],
   "source": [
    "credit = pd.read_csv('creditcard.csv')\n",
    "credit.head()"
   ]
  },
  {
   "cell_type": "code",
   "execution_count": 4,
   "id": "49934e7a",
   "metadata": {},
   "outputs": [
    {
     "data": {
      "text/plain": [
       "Time      0\n",
       "V1        0\n",
       "V2        0\n",
       "V3        0\n",
       "V4        0\n",
       "V5        0\n",
       "V6        0\n",
       "V7        0\n",
       "V8        0\n",
       "V9        0\n",
       "V10       0\n",
       "V11       0\n",
       "V12       0\n",
       "V13       0\n",
       "V14       0\n",
       "V15       0\n",
       "V16       0\n",
       "V17       0\n",
       "V18       0\n",
       "V19       0\n",
       "V20       0\n",
       "V21       0\n",
       "V22       0\n",
       "V23       0\n",
       "V24       0\n",
       "V25       0\n",
       "V26       0\n",
       "V27       0\n",
       "V28       0\n",
       "Amount    0\n",
       "Class     0\n",
       "dtype: int64"
      ]
     },
     "execution_count": 4,
     "metadata": {},
     "output_type": "execute_result"
    }
   ],
   "source": [
    "credit.isna().sum()"
   ]
  },
  {
   "cell_type": "code",
   "execution_count": 5,
   "id": "71bce008",
   "metadata": {},
   "outputs": [
    {
     "data": {
      "text/plain": [
       "0    284315\n",
       "1       492\n",
       "Name: Class, dtype: int64"
      ]
     },
     "execution_count": 5,
     "metadata": {},
     "output_type": "execute_result"
    }
   ],
   "source": [
    "credit['Class'].value_counts()"
   ]
  },
  {
   "cell_type": "code",
   "execution_count": 6,
   "id": "962db3ef",
   "metadata": {},
   "outputs": [
    {
     "name": "stderr",
     "output_type": "stream",
     "text": [
      "C:\\Users\\Seneca\\AppData\\Local\\Temp/ipykernel_18096/4172792951.py:1: FutureWarning: In a future version of pandas all arguments of DataFrame.drop except for the argument 'labels' will be keyword-only\n",
      "  X = credit.drop(['Class'], 1).to_numpy()\n"
     ]
    }
   ],
   "source": [
    "X = credit.drop(['Class'], 1).to_numpy()\n",
    "y = credit['Class'].to_numpy()\n",
    "X_train, X_test, y_train, y_test = train_test_split(X, y, test_size=0.33, random_state=42)"
   ]
  },
  {
   "cell_type": "code",
   "execution_count": 7,
   "id": "66ec0689",
   "metadata": {},
   "outputs": [],
   "source": [
    "scaler = StandardScaler()\n",
    "X_train_s = scaler.fit_transform(X_train)\n",
    "X_test_s = scaler.fit_transform(X_test)"
   ]
  },
  {
   "cell_type": "code",
   "execution_count": 8,
   "id": "4ccc9d5f",
   "metadata": {},
   "outputs": [],
   "source": [
    "def run_sampler_batch(run_model, samplers = [], incROC = False):\n",
    "    metrics = []\n",
    "    conf_disps = []\n",
    "    rocs = []\n",
    "    \n",
    "    # make sure there are samplers to run\n",
    "    if(len(samplers) > 0):\n",
    "        for sampler, name in samplers:\n",
    "            # get samples\n",
    "            \n",
    "            X_train_re, y_train_re = sampler.fit_resample(X_train_s, y_train)\n",
    "            \n",
    "            # run model\n",
    "            if(incROC):\n",
    "                mets, conf_disp, roc = run_model(X_train_re, y_train_re, name)\n",
    "                rocs.append(roc)\n",
    "            else:\n",
    "                mets, conf_disp = run_model(X_train_re, y_train_re, name)\n",
    "            \n",
    "            # store performance stats in lists\n",
    "            metrics.append(mets)\n",
    "            conf_disps.append(conf_disp)\n",
    "   \n",
    "    else: # run model with original scaled training data\n",
    "        if(incROC):\n",
    "            mets, conf_disp, roc = run_model(X_train_s, y_train, \"No Sampling Method\")\n",
    "            rocs.append(roc)\n",
    "        else:\n",
    "            mets, conf_disp = run_model(X_train_s, y_train, \"No Sampling Method\")\n",
    "        \n",
    "        # store performance stats in lists\n",
    "        metrics.append(mets)\n",
    "        conf_disps.append(conf_disp)\n",
    "    \n",
    "    # return performance stats\n",
    "    if(incROC):\n",
    "        return metrics, conf_disps, rocs\n",
    "    return metrics, conf_disps"
   ]
  },
  {
   "cell_type": "code",
   "execution_count": 9,
   "id": "9ee77f9c",
   "metadata": {},
   "outputs": [],
   "source": [
    "def print_metrics(metrics):\n",
    "    for item in metrics:\n",
    "        print(\"*****************************************\")\n",
    "        print(item[\"name\"])\n",
    "        print(\"Accuracy Score: \", item[\"accuracy\"])\n",
    "        print(\"Precision: \", item[\"precision\"])\n",
    "        print(\"Recall: \", item[\"recall\"])\n",
    "        print(\"F1: \", item[\"f1\"])\n",
    "        print()\n",
    "\n",
    "def plot_conf_disps(conf_disps):\n",
    "    for item in conf_disps:\n",
    "        print(item[\"name\"])\n",
    "        item[\"disp\"].plot()\n",
    "        plt.show()\n",
    "        \n",
    "def plot_rocs(rocs):\n",
    "    for item in rocs:\n",
    "        plt.plot(item[\"fpr\"], item[\"tpr\"])\n",
    "        plt.title(item[\"name\"])\n",
    "        plt.xlabel(\"False Positive Rate\")\n",
    "        plt.ylabel(\"True Positive Rate (Recall)\")\n",
    "        plt.show()"
   ]
  },
  {
   "cell_type": "markdown",
   "id": "0f41e36d",
   "metadata": {},
   "source": [
    "## Logistic Regression"
   ]
  },
  {
   "cell_type": "code",
   "execution_count": 10,
   "id": "0b59bfd3",
   "metadata": {},
   "outputs": [],
   "source": [
    "def run_log_reg(X_tr_nn, y_tr_nn, name):\n",
    "    print(\"RUNNING LOGISTIC REGRESSION CLASSIFIER ON DATA: \", name)\n",
    "    log_reg = LogisticRegression(solver='lbfgs', random_state=42, max_iter=1000)\n",
    "    \n",
    "    log_reg = log_reg.fit(X_tr_nn, y_tr_nn)\n",
    "    \n",
    "    y_pred = log_reg.predict(X_test_s)\n",
    "    # y_pred = np.where(y_pred > 0.5, 1, 0)\n",
    "\n",
    "    # get metrics to be printed later\n",
    "    metrics_rf = {\"name\": name, \n",
    "               \"accuracy\": accuracy_score(y_test, y_pred),\n",
    "               \"precision\": precision_score(y_test, y_pred, zero_division=False),\n",
    "               \"recall\": recall_score(y_test, y_pred),\n",
    "               \"f1\": f1_score(y_test, y_pred),\n",
    "              }\n",
    "    \n",
    "    # generate confusion matrix visualizations\n",
    "    conf_matrix = confusion_matrix(y_test, y_pred)\n",
    "    conf_disp_rf = {\"name\": name, \n",
    "                 \"disp\": ConfusionMatrixDisplay(conf_matrix)\n",
    "                 }\n",
    "    \n",
    "    # get false and true positive rates to graph later\n",
    "    \n",
    "    y_scores = cross_val_predict(log_reg, X_test_s, y_test, cv=3, method=\"decision_function\")\n",
    "    fpr, tpr, thresholds_roc = roc_curve(y_test, y_scores)\n",
    "    roc_rf = {\"name\": name,\n",
    "           \"fpr\": fpr,\n",
    "           \"tpr\": tpr\n",
    "          }\n",
    "    \n",
    "    return metrics_rf, conf_disp_rf, roc_rf"
   ]
  },
  {
   "cell_type": "markdown",
   "id": "bebab013",
   "metadata": {},
   "source": [
    "### Logistic regression without accounting for class imbalances"
   ]
  },
  {
   "cell_type": "code",
   "execution_count": 11,
   "id": "06b8440d",
   "metadata": {},
   "outputs": [
    {
     "name": "stdout",
     "output_type": "stream",
     "text": [
      "RUNNING LOGISTIC REGRESSION CLASSIFIER ON DATA:  No Sampling Method\n"
     ]
    }
   ],
   "source": [
    "metrics, conf_disps, rocs = run_sampler_batch(run_model=run_log_reg, incROC=True)"
   ]
  },
  {
   "cell_type": "code",
   "execution_count": 12,
   "id": "31a06f5d",
   "metadata": {},
   "outputs": [
    {
     "name": "stdout",
     "output_type": "stream",
     "text": [
      "*****************************************\n",
      "No Sampling Method\n",
      "Accuracy Score:  0.9992764956855735\n",
      "Precision:  0.8715596330275229\n",
      "Recall:  0.6375838926174496\n",
      "F1:  0.7364341085271318\n",
      "\n"
     ]
    }
   ],
   "source": [
    "print_metrics(metrics)"
   ]
  },
  {
   "cell_type": "code",
   "execution_count": 13,
   "id": "bb8c3d89",
   "metadata": {},
   "outputs": [
    {
     "name": "stdout",
     "output_type": "stream",
     "text": [
      "No Sampling Method\n"
     ]
    },
    {
     "data": {
      "image/png": "[encoded data removed]",
      "text/plain": [
       "<Figure size 432x288 with 2 Axes>"
      ]
     },
     "metadata": {
      "needs_background": "light"
     },
     "output_type": "display_data"
    }
   ],
   "source": [
    "plot_conf_disps(conf_disps)"
   ]
  },
  {
   "cell_type": "code",
   "execution_count": 14,
   "id": "465647dc",
   "metadata": {},
   "outputs": [
    {
     "data": {
      "image/png": "[encoded data removed]",
      "text/plain": [
       "<Figure size 432x288 with 1 Axes>"
      ]
     },
     "metadata": {
      "needs_background": "light"
     },
     "output_type": "display_data"
    }
   ],
   "source": [
    "plot_rocs(rocs)"
   ]
  },
  {
   "cell_type": "markdown",
   "id": "d7767d68",
   "metadata": {},
   "source": [
    "### Logistic Regression with Oversampling"
   ]
  },
  {
   "cell_type": "code",
   "execution_count": 15,
   "id": "802c3f86",
   "metadata": {},
   "outputs": [],
   "source": [
    "over_samplers = [[RandomOverSampler(random_state=42), \"RandomOverSampler\"],\n",
    "                 [SMOTE(random_state=42), \"SMOTE\"],\n",
    "                 [ADASYN(random_state=42), \"ADASYN\"],\n",
    "                 [BorderlineSMOTE(random_state=42), \"BorderLineSMOTE\"]\n",
    "                ]"
   ]
  },
  {
   "cell_type": "code",
   "execution_count": 16,
   "id": "0fd2732d",
   "metadata": {},
   "outputs": [
    {
     "name": "stdout",
     "output_type": "stream",
     "text": [
      "RUNNING LOGISTIC REGRESSION CLASSIFIER ON DATA:  RandomOverSampler\n",
      "RUNNING LOGISTIC REGRESSION CLASSIFIER ON DATA:  SMOTE\n",
      "RUNNING LOGISTIC REGRESSION CLASSIFIER ON DATA:  ADASYN\n",
      "RUNNING LOGISTIC REGRESSION CLASSIFIER ON DATA:  BorderLineSMOTE\n"
     ]
    }
   ],
   "source": [
    "metrics, conf_disps, rocs = run_sampler_batch(run_model=run_log_reg, samplers=over_samplers, incROC=True)"
   ]
  },
  {
   "cell_type": "code",
   "execution_count": 17,
   "id": "17ad4c8f",
   "metadata": {},
   "outputs": [
    {
     "name": "stdout",
     "output_type": "stream",
     "text": [
      "*****************************************\n",
      "RandomOverSampler\n",
      "Accuracy Score:  0.9728792279783375\n",
      "Precision:  0.05089820359281437\n",
      "Recall:  0.912751677852349\n",
      "F1:  0.09641970932293513\n",
      "\n",
      "*****************************************\n",
      "SMOTE\n",
      "Accuracy Score:  0.9721344441252514\n",
      "Precision:  0.049927113702623906\n",
      "Recall:  0.9194630872483222\n",
      "F1:  0.0947113722779122\n",
      "\n",
      "*****************************************\n",
      "ADASYN\n",
      "Accuracy Score:  0.9053805313500803\n",
      "Precision:  0.015621537779747396\n",
      "Recall:  0.9463087248322147\n",
      "F1:  0.030735694822888286\n",
      "\n",
      "*****************************************\n",
      "BorderLineSMOTE\n",
      "Accuracy Score:  0.9909774756083288\n",
      "Precision:  0.13403141361256546\n",
      "Recall:  0.8590604026845637\n",
      "F1:  0.23188405797101452\n",
      "\n"
     ]
    }
   ],
   "source": [
    "print_metrics(metrics)"
   ]
  },
  {
   "cell_type": "code",
   "execution_count": 18,
   "id": "631c8cc3",
   "metadata": {},
   "outputs": [
    {
     "name": "stdout",
     "output_type": "stream",
     "text": [
      "RandomOverSampler\n"
     ]
    },
    {
     "data": {
      "image/png": "[encoded data removed]",
      "text/plain": [
       "<Figure size 432x288 with 2 Axes>"
      ]
     },
     "metadata": {
      "needs_background": "light"
     },
     "output_type": "display_data"
    },
    {
     "name": "stdout",
     "output_type": "stream",
     "text": [
      "SMOTE\n"
     ]
    },
    {
     "data": {
      "image/png": "[encoded data removed]",
      "text/plain": [
       "<Figure size 432x288 with 2 Axes>"
      ]
     },
     "metadata": {
      "needs_background": "light"
     },
     "output_type": "display_data"
    },
    {
     "name": "stdout",
     "output_type": "stream",
     "text": [
      "ADASYN\n"
     ]
    },
    {
     "data": {
      "image/png": "[encoded data removed]",
      "text/plain": [
       "<Figure size 432x288 with 2 Axes>"
      ]
     },
     "metadata": {
      "needs_background": "light"
     },
     "output_type": "display_data"
    },
    {
     "name": "stdout",
     "output_type": "stream",
     "text": [
      "BorderLineSMOTE\n"
     ]
    },
    {
     "data": {
      "image/png": "[encoded data removed]",
      "text/plain": [
       "<Figure size 432x288 with 2 Axes>"
      ]
     },
     "metadata": {
      "needs_background": "light"
     },
     "output_type": "display_data"
    }
   ],
   "source": [
    "plot_conf_disps(conf_disps)"
   ]
  },
  {
   "cell_type": "code",
   "execution_count": 19,
   "id": "e41c39d9",
   "metadata": {},
   "outputs": [
    {
     "data": {
      "image/png": "[encoded data removed]",
      "text/plain": [
       "<Figure size 432x288 with 1 Axes>"
      ]
     },
     "metadata": {
      "needs_background": "light"
     },
     "output_type": "display_data"
    },
    {
     "data": {
      "image/png": "[encoded data removed]",
      "text/plain": [
       "<Figure size 432x288 with 1 Axes>"
      ]
     },
     "metadata": {
      "needs_background": "light"
     },
     "output_type": "display_data"
    },
    {
     "data": {
      "image/png": "[encoded data removed]",
      "text/plain": [
       "<Figure size 432x288 with 1 Axes>"
      ]
     },
     "metadata": {
      "needs_background": "light"
     },
     "output_type": "display_data"
    },
    {
     "data": {
      "image/png": "[encoded data removed]",
      "text/plain": [
       "<Figure size 432x288 with 1 Axes>"
      ]
     },
     "metadata": {
      "needs_background": "light"
     },
     "output_type": "display_data"
    }
   ],
   "source": [
    "plot_rocs(rocs)"
   ]
  },
  {
   "cell_type": "markdown",
   "id": "f9c54728",
   "metadata": {},
   "source": [
    "### Logistic Regression with Undersampling"
   ]
  },
  {
   "cell_type": "code",
   "execution_count": 20,
   "id": "ab8220d8",
   "metadata": {},
   "outputs": [],
   "source": [
    "under_samplers = [[RandomUnderSampler(random_state=42), \"RandomUnderSampler\"],\n",
    "                 [NearMiss(), \"NearMiss\"]\n",
    "                ]"
   ]
  },
  {
   "cell_type": "code",
   "execution_count": 21,
   "id": "332a5e73",
   "metadata": {},
   "outputs": [
    {
     "name": "stdout",
     "output_type": "stream",
     "text": [
      "RUNNING LOGISTIC REGRESSION CLASSIFIER ON DATA:  RandomUnderSampler\n",
      "RUNNING LOGISTIC REGRESSION CLASSIFIER ON DATA:  NearMiss\n"
     ]
    }
   ],
   "source": [
    "metrics, conf_disps, rocs = run_sampler_batch(run_model=run_log_reg, samplers=under_samplers, incROC=True)"
   ]
  },
  {
   "cell_type": "code",
   "execution_count": 22,
   "id": "8851e8ed",
   "metadata": {},
   "outputs": [
    {
     "name": "stdout",
     "output_type": "stream",
     "text": [
      "*****************************************\n",
      "RandomUnderSampler\n",
      "Accuracy Score:  0.9584517007671274\n",
      "Precision:  0.03422619047619048\n",
      "Recall:  0.9261744966442953\n",
      "F1:  0.06601291557043769\n",
      "\n",
      "*****************************************\n",
      "NearMiss\n",
      "Accuracy Score:  0.585197952908381\n",
      "Precision:  0.0034774604311028153\n",
      "Recall:  0.912751677852349\n",
      "F1:  0.006928524122471852\n",
      "\n"
     ]
    }
   ],
   "source": [
    "print_metrics(metrics)"
   ]
  },
  {
   "cell_type": "code",
   "execution_count": 23,
   "id": "cd4c71d3",
   "metadata": {},
   "outputs": [
    {
     "name": "stdout",
     "output_type": "stream",
     "text": [
      "RandomUnderSampler\n"
     ]
    },
    {
     "data": {
      "image/png": "[encoded data removed]",
      "text/plain": [
       "<Figure size 432x288 with 2 Axes>"
      ]
     },
     "metadata": {
      "needs_background": "light"
     },
     "output_type": "display_data"
    },
    {
     "name": "stdout",
     "output_type": "stream",
     "text": [
      "NearMiss\n"
     ]
    },
    {
     "data": {
      "image/png": "[encoded data removed]",
      "text/plain": [
       "<Figure size 432x288 with 2 Axes>"
      ]
     },
     "metadata": {
      "needs_background": "light"
     },
     "output_type": "display_data"
    }
   ],
   "source": [
    "plot_conf_disps(conf_disps)"
   ]
  },
  {
   "cell_type": "code",
   "execution_count": 24,
   "id": "1e4a0768",
   "metadata": {},
   "outputs": [
    {
     "data": {
      "image/png": "[encoded data removed]",
      "text/plain": [
       "<Figure size 432x288 with 1 Axes>"
      ]
     },
     "metadata": {
      "needs_background": "light"
     },
     "output_type": "display_data"
    },
    {
     "data": {
      "image/png": "[encoded data removed]",
      "text/plain": [
       "<Figure size 432x288 with 1 Axes>"
      ]
     },
     "metadata": {
      "needs_background": "light"
     },
     "output_type": "display_data"
    }
   ],
   "source": [
    "plot_rocs(rocs)"
   ]
  },
  {
   "cell_type": "markdown",
   "id": "c121df42",
   "metadata": {},
   "source": [
    "## Neural Network"
   ]
  },
  {
   "cell_type": "code",
   "execution_count": 25,
   "id": "1fa76756",
   "metadata": {},
   "outputs": [],
   "source": [
    "import keras\n",
    "from keras.models import Sequential\n",
    "from keras.layers import Dense"
   ]
  },
  {
   "cell_type": "code",
   "execution_count": 26,
   "id": "f14b5b46",
   "metadata": {},
   "outputs": [
    {
     "data": {
      "text/plain": [
       "(30,)"
      ]
     },
     "execution_count": 26,
     "metadata": {},
     "output_type": "execute_result"
    }
   ],
   "source": [
    "np.shape(X_train_s[0])"
   ]
  },
  {
   "cell_type": "code",
   "execution_count": 27,
   "id": "0bd33ed3",
   "metadata": {},
   "outputs": [],
   "source": [
    "def run_nn(X_tr_nn, y_tr_nn, name):\n",
    "    print(\"RUNNING NEURAL NETWORK ON DATA: \", name)\n",
    "    classifier = Sequential()\n",
    "    classifier.add(keras.layers.Dense(units=60, kernel_initializer='uniform', activation='tanh', input_dim=30))\n",
    "    classifier.add(keras.layers.Dense(units=30, kernel_initializer='uniform', activation='tanh'))\n",
    "    classifier.add(keras.layers.Dense(units=10, kernel_initializer='uniform', activation='tanh'))\n",
    "    classifier.add(keras.layers.Dense(units=1, kernel_initializer='uniform', activation='sigmoid'))\n",
    "    \n",
    "    classifier.compile(optimizer='adam', loss='binary_crossentropy', metrics=['accuracy'])\n",
    "    \n",
    "    history = classifier.fit(X_tr_nn, y_tr_nn, epochs=20, batch_size=10)\n",
    "    \n",
    "    y_pred = classifier.predict(X_test_s)\n",
    "    y_pred = np.where(y_pred > 0.5, 1, 0)\n",
    "\n",
    "    # get metrics to be printed later\n",
    "    metrics_nn = {\"name\": name, \n",
    "               \"accuracy\": accuracy_score(y_test, y_pred),\n",
    "               \"precision\": precision_score(y_test, y_pred, zero_division=False),\n",
    "               \"recall\": recall_score(y_test, y_pred),\n",
    "               \"f1\": f1_score(y_test, y_pred),\n",
    "              }\n",
    "    \n",
    "    # generate confusion matrix visualizations\n",
    "    conf_matrix = confusion_matrix(y_test, y_pred)\n",
    "    conf_disp_nn = {\"name\": name, \n",
    "                 \"disp\": ConfusionMatrixDisplay(conf_matrix)\n",
    "                 }\n",
    "    \n",
    "    return metrics_nn, conf_disp_nn"
   ]
  },
  {
   "cell_type": "markdown",
   "id": "67becf3e",
   "metadata": {},
   "source": [
    "### Neural Network without accounting for class imbalance"
   ]
  },
  {
   "cell_type": "code",
   "execution_count": 28,
   "id": "f2ef9b0f",
   "metadata": {},
   "outputs": [
    {
     "name": "stdout",
     "output_type": "stream",
     "text": [
      "RUNNING NEURAL NETWORK ON DATA:  No Sampling Method\n",
      "Epoch 1/20\n",
      "19082/19082 [==============================] - 20s 1ms/step - loss: 0.0091 - accuracy: 0.9991\n",
      "Epoch 2/20\n",
      "19082/19082 [==============================] - 20s 1ms/step - loss: 0.0040 - accuracy: 0.9993\n",
      "Epoch 3/20\n",
      "19082/19082 [==============================] - 21s 1ms/step - loss: 0.0035 - accuracy: 0.9994\n",
      "Epoch 4/20\n",
      "19082/19082 [==============================] - 21s 1ms/step - loss: 0.0034 - accuracy: 0.9993\n",
      "Epoch 5/20\n",
      "19082/19082 [==============================] - 22s 1ms/step - loss: 0.0032 - accuracy: 0.9993\n",
      "Epoch 6/20\n",
      "19082/19082 [==============================] - 23s 1ms/step - loss: 0.0031 - accuracy: 0.9993\n",
      "Epoch 7/20\n",
      "19082/19082 [==============================] - 24s 1ms/step - loss: 0.0030 - accuracy: 0.9993\n",
      "Epoch 8/20\n",
      "19082/19082 [==============================] - 23s 1ms/step - loss: 0.0028 - accuracy: 0.9994\n",
      "Epoch 9/20\n",
      "19082/19082 [==============================] - 23s 1ms/step - loss: 0.0027 - accuracy: 0.9994\n",
      "Epoch 10/20\n",
      "19082/19082 [==============================] - 27s 1ms/step - loss: 0.0026 - accuracy: 0.9994\n",
      "Epoch 11/20\n",
      "19082/19082 [==============================] - 21s 1ms/step - loss: 0.0025 - accuracy: 0.9994\n",
      "Epoch 12/20\n",
      "19082/19082 [==============================] - 22s 1ms/step - loss: 0.0025 - accuracy: 0.9994\n",
      "Epoch 13/20\n",
      "19082/19082 [==============================] - 21s 1ms/step - loss: 0.0022 - accuracy: 0.9995\n",
      "Epoch 14/20\n",
      "19082/19082 [==============================] - 21s 1ms/step - loss: 0.0023 - accuracy: 0.9995\n",
      "Epoch 15/20\n",
      "19082/19082 [==============================] - 21s 1ms/step - loss: 0.0021 - accuracy: 0.9995\n",
      "Epoch 16/20\n",
      "19082/19082 [==============================] - 21s 1ms/step - loss: 0.0022 - accuracy: 0.9995\n",
      "Epoch 17/20\n",
      "19082/19082 [==============================] - 21s 1ms/step - loss: 0.0021 - accuracy: 0.9996\n",
      "Epoch 18/20\n",
      "19082/19082 [==============================] - 21s 1ms/step - loss: 0.0019 - accuracy: 0.9995\n",
      "Epoch 19/20\n",
      "19082/19082 [==============================] - 21s 1ms/step - loss: 0.0018 - accuracy: 0.9995\n",
      "Epoch 20/20\n",
      "19082/19082 [==============================] - 21s 1ms/step - loss: 0.0018 - accuracy: 0.9995\n"
     ]
    }
   ],
   "source": [
    "metrics, conf_disps = run_sampler_batch(run_nn)"
   ]
  },
  {
   "cell_type": "code",
   "execution_count": 29,
   "id": "c8c4337b",
   "metadata": {},
   "outputs": [
    {
     "name": "stdout",
     "output_type": "stream",
     "text": [
      "*****************************************\n",
      "No Sampling Method\n",
      "Accuracy Score:  0.9994041729175311\n",
      "Precision:  0.803921568627451\n",
      "Recall:  0.825503355704698\n",
      "F1:  0.8145695364238411\n",
      "\n"
     ]
    }
   ],
   "source": [
    "print_metrics(metrics)"
   ]
  },
  {
   "cell_type": "code",
   "execution_count": 30,
   "id": "080d0ccb",
   "metadata": {},
   "outputs": [
    {
     "name": "stdout",
     "output_type": "stream",
     "text": [
      "No Sampling Method\n"
     ]
    },
    {
     "data": {
      "image/png": "[encoded data removed]",
      "text/plain": [
       "<Figure size 432x288 with 2 Axes>"
      ]
     },
     "metadata": {
      "needs_background": "light"
     },
     "output_type": "display_data"
    }
   ],
   "source": [
    "plot_conf_disps(conf_disps)"
   ]
  },
  {
   "cell_type": "markdown",
   "id": "09d4acbb",
   "metadata": {},
   "source": [
    "### Neural Network with Oversampling"
   ]
  },
  {
   "cell_type": "code",
   "execution_count": 31,
   "id": "2029fba4",
   "metadata": {},
   "outputs": [],
   "source": [
    "over_samplers = [[RandomOverSampler(random_state=42), \"RandomOverSampler\"],\n",
    "                 [SMOTE(random_state=42), \"SMOTE\"],\n",
    "                 [ADASYN(random_state=42), \"ADASYN\"],\n",
    "                 [BorderlineSMOTE(random_state=42), \"BorderLineSMOTE\"]\n",
    "                ]"
   ]
  },
  {
   "cell_type": "code",
   "execution_count": 32,
   "id": "39585ccb",
   "metadata": {},
   "outputs": [
    {
     "name": "stdout",
     "output_type": "stream",
     "text": [
      "RUNNING NEURAL NETWORK ON DATA:  RandomOverSampler\n",
      "Epoch 1/20\n",
      "38096/38096 [==============================] - 52s 1ms/step - loss: 0.0476 - accuracy: 0.9835\n",
      "Epoch 2/20\n",
      "38096/38096 [==============================] - 57s 1ms/step - loss: 0.0080 - accuracy: 0.9978\n",
      "Epoch 3/20\n",
      "38096/38096 [==============================] - 49s 1ms/step - loss: 0.0051 - accuracy: 0.9987\n",
      "Epoch 4/20\n",
      "38096/38096 [==============================] - 42s 1ms/step - loss: 0.0037 - accuracy: 0.9992\n",
      "Epoch 5/20\n",
      "38096/38096 [==============================] - 42s 1ms/step - loss: 0.0030 - accuracy: 0.9994\n",
      "Epoch 6/20\n",
      "38096/38096 [==============================] - 43s 1ms/step - loss: 0.0027 - accuracy: 0.9995\n",
      "Epoch 7/20\n",
      "38096/38096 [==============================] - 44s 1ms/step - loss: 0.0027 - accuracy: 0.9995\n",
      "Epoch 8/20\n",
      "38096/38096 [==============================] - 44s 1ms/step - loss: 0.0021 - accuracy: 0.9996\n",
      "Epoch 9/20\n",
      "38096/38096 [==============================] - 45s 1ms/step - loss: 0.0020 - accuracy: 0.9996\n",
      "Epoch 10/20\n",
      "38096/38096 [==============================] - 45s 1ms/step - loss: 0.0018 - accuracy: 0.9997\n",
      "Epoch 11/20\n",
      "38096/38096 [==============================] - 44s 1ms/step - loss: 0.0017 - accuracy: 0.9997\n",
      "Epoch 12/20\n",
      "38096/38096 [==============================] - 42s 1ms/step - loss: 0.0016 - accuracy: 0.9997\n",
      "Epoch 13/20\n",
      "38096/38096 [==============================] - 42s 1ms/step - loss: 0.0018 - accuracy: 0.9997\n",
      "Epoch 14/20\n",
      "38096/38096 [==============================] - 43s 1ms/step - loss: 0.0015 - accuracy: 0.9997\n",
      "Epoch 15/20\n",
      "38096/38096 [==============================] - 44s 1ms/step - loss: 0.0014 - accuracy: 0.9997\n",
      "Epoch 16/20\n",
      "38096/38096 [==============================] - 45s 1ms/step - loss: 0.0014 - accuracy: 0.9998\n",
      "Epoch 17/20\n",
      "38096/38096 [==============================] - 45s 1ms/step - loss: 0.0015 - accuracy: 0.9997\n",
      "Epoch 18/20\n",
      "38096/38096 [==============================] - 45s 1ms/step - loss: 0.0015 - accuracy: 0.9997\n",
      "Epoch 19/20\n",
      "38096/38096 [==============================] - 45s 1ms/step - loss: 0.0014 - accuracy: 0.9997\n",
      "Epoch 20/20\n",
      "38096/38096 [==============================] - 47s 1ms/step - loss: 0.0017 - accuracy: 0.9997\n",
      "RUNNING NEURAL NETWORK ON DATA:  SMOTE\n",
      "Epoch 1/20\n",
      "38096/38096 [==============================] - 45s 1ms/step - loss: 0.0507 - accuracy: 0.9819\n",
      "Epoch 2/20\n",
      "38096/38096 [==============================] - 45s 1ms/step - loss: 0.0109 - accuracy: 0.9968\n",
      "Epoch 3/20\n",
      "38096/38096 [==============================] - 44s 1ms/step - loss: 0.0067 - accuracy: 0.9981\n",
      "Epoch 4/20\n",
      "38096/38096 [==============================] - 45s 1ms/step - loss: 0.0048 - accuracy: 0.9988\n",
      "Epoch 5/20\n",
      "38096/38096 [==============================] - 44s 1ms/step - loss: 0.0038 - accuracy: 0.9990\n",
      "Epoch 6/20\n",
      "38096/38096 [==============================] - 45s 1ms/step - loss: 0.0032 - accuracy: 0.9992\n",
      "Epoch 7/20\n",
      "38096/38096 [==============================] - 44s 1ms/step - loss: 0.0030 - accuracy: 0.9993\n",
      "Epoch 8/20\n",
      "38096/38096 [==============================] - 45s 1ms/step - loss: 0.0024 - accuracy: 0.9994\n",
      "Epoch 9/20\n",
      "38096/38096 [==============================] - 45s 1ms/step - loss: 0.0021 - accuracy: 0.9995\n",
      "Epoch 10/20\n",
      "38096/38096 [==============================] - 44s 1ms/step - loss: 0.0020 - accuracy: 0.9995\n",
      "Epoch 11/20\n",
      "38096/38096 [==============================] - 42s 1ms/step - loss: 0.0020 - accuracy: 0.9995\n",
      "Epoch 12/20\n",
      "38096/38096 [==============================] - 42s 1ms/step - loss: 0.0017 - accuracy: 0.9996\n",
      "Epoch 13/20\n",
      "38096/38096 [==============================] - 41s 1ms/step - loss: 0.0015 - accuracy: 0.9996\n",
      "Epoch 14/20\n",
      "38096/38096 [==============================] - 41s 1ms/step - loss: 0.0015 - accuracy: 0.9997\n",
      "Epoch 15/20\n",
      "38096/38096 [==============================] - 41s 1ms/step - loss: 0.0015 - accuracy: 0.9996\n",
      "Epoch 16/20\n",
      "38096/38096 [==============================] - 42s 1ms/step - loss: 0.0013 - accuracy: 0.9997\n",
      "Epoch 17/20\n",
      "38096/38096 [==============================] - 42s 1ms/step - loss: 0.0013 - accuracy: 0.9997\n",
      "Epoch 18/20\n",
      "38096/38096 [==============================] - 42s 1ms/step - loss: 0.0012 - accuracy: 0.9997\n",
      "Epoch 19/20\n",
      "38096/38096 [==============================] - 41s 1ms/step - loss: 0.0013 - accuracy: 0.9997\n",
      "Epoch 20/20\n",
      "38096/38096 [==============================] - 40s 1ms/step - loss: 0.0012 - accuracy: 0.9997\n",
      "RUNNING NEURAL NETWORK ON DATA:  ADASYN\n",
      "Epoch 1/20\n",
      "38096/38096 [==============================] - 39s 1ms/step - loss: 0.0588 - accuracy: 0.9797\n",
      "Epoch 2/20\n",
      "38096/38096 [==============================] - 42s 1ms/step - loss: 0.0099 - accuracy: 0.9975\n",
      "Epoch 3/20\n",
      "38096/38096 [==============================] - 42s 1ms/step - loss: 0.0066 - accuracy: 0.9984\n",
      "Epoch 4/20\n",
      "38096/38096 [==============================] - 40s 1ms/step - loss: 0.0052 - accuracy: 0.9988\n",
      "Epoch 5/20\n",
      "38096/38096 [==============================] - 41s 1ms/step - loss: 0.0041 - accuracy: 0.9991\n",
      "Epoch 6/20\n",
      "38096/38096 [==============================] - 41s 1ms/step - loss: 0.0031 - accuracy: 0.9993\n",
      "Epoch 7/20\n",
      "38096/38096 [==============================] - 40s 1ms/step - loss: 0.0030 - accuracy: 0.9994\n",
      "Epoch 8/20\n",
      "38096/38096 [==============================] - 40s 1ms/step - loss: 0.0027 - accuracy: 0.9995\n",
      "Epoch 9/20\n",
      "38096/38096 [==============================] - 40s 1ms/step - loss: 0.0022 - accuracy: 0.9995\n",
      "Epoch 10/20\n",
      "38096/38096 [==============================] - 39s 1ms/step - loss: 0.0021 - accuracy: 0.9995\n",
      "Epoch 11/20\n",
      "38096/38096 [==============================] - 38s 1ms/step - loss: 0.0020 - accuracy: 0.9996\n",
      "Epoch 12/20\n",
      "38096/38096 [==============================] - 38s 990us/step - loss: 0.0022 - accuracy: 0.9996\n",
      "Epoch 13/20\n",
      "38096/38096 [==============================] - 38s 995us/step - loss: 0.0018 - accuracy: 0.9996\n",
      "Epoch 14/20\n",
      "38096/38096 [==============================] - 45s 1ms/step - loss: 0.0016 - accuracy: 0.9997\n",
      "Epoch 15/20\n",
      "38096/38096 [==============================] - 47s 1ms/step - loss: 0.0016 - accuracy: 0.9997\n",
      "Epoch 16/20\n",
      "38096/38096 [==============================] - 48s 1ms/step - loss: 0.0016 - accuracy: 0.9997\n",
      "Epoch 17/20\n",
      "38096/38096 [==============================] - 46s 1ms/step - loss: 0.0016 - accuracy: 0.9997\n",
      "Epoch 18/20\n",
      "38096/38096 [==============================] - 46s 1ms/step - loss: 0.0017 - accuracy: 0.9997\n",
      "Epoch 19/20\n",
      "38096/38096 [==============================] - 47s 1ms/step - loss: 0.0016 - accuracy: 0.9997\n",
      "Epoch 20/20\n",
      "38096/38096 [==============================] - 48s 1ms/step - loss: 0.0015 - accuracy: 0.9997\n",
      "RUNNING NEURAL NETWORK ON DATA:  BorderLineSMOTE\n",
      "Epoch 1/20\n",
      "38096/38096 [==============================] - 51s 1ms/step - loss: 0.0170 - accuracy: 0.9957\n",
      "Epoch 2/20\n",
      "38096/38096 [==============================] - 51s 1ms/step - loss: 0.0052 - accuracy: 0.9989\n",
      "Epoch 3/20\n",
      "38096/38096 [==============================] - 53s 1ms/step - loss: 0.0038 - accuracy: 0.9993\n",
      "Epoch 4/20\n",
      "38096/38096 [==============================] - 51s 1ms/step - loss: 0.0032 - accuracy: 0.9994\n",
      "Epoch 5/20\n",
      "38096/38096 [==============================] - 51s 1ms/step - loss: 0.0028 - accuracy: 0.9995\n",
      "Epoch 6/20\n",
      "38096/38096 [==============================] - 51s 1ms/step - loss: 0.0024 - accuracy: 0.9996\n",
      "Epoch 7/20\n",
      "38096/38096 [==============================] - 51s 1ms/step - loss: 0.0024 - accuracy: 0.9996\n",
      "Epoch 8/20\n",
      "38096/38096 [==============================] - 53s 1ms/step - loss: 0.0022 - accuracy: 0.9997\n",
      "Epoch 9/20\n",
      "38096/38096 [==============================] - 51s 1ms/step - loss: 0.0020 - accuracy: 0.9997\n",
      "Epoch 10/20\n",
      "38096/38096 [==============================] - 51s 1ms/step - loss: 0.0018 - accuracy: 0.9997\n",
      "Epoch 11/20\n",
      "38096/38096 [==============================] - 52s 1ms/step - loss: 0.0017 - accuracy: 0.9997\n",
      "Epoch 12/20\n",
      "38096/38096 [==============================] - 49s 1ms/step - loss: 0.0016 - accuracy: 0.9997\n",
      "Epoch 13/20\n",
      "38096/38096 [==============================] - 51s 1ms/step - loss: 0.0017 - accuracy: 0.9997\n",
      "Epoch 14/20\n",
      "38096/38096 [==============================] - 49s 1ms/step - loss: 0.0016 - accuracy: 0.9998\n",
      "Epoch 15/20\n",
      "38096/38096 [==============================] - 45s 1ms/step - loss: 0.0017 - accuracy: 0.9997\n",
      "Epoch 16/20\n"
     ]
    },
    {
     "name": "stdout",
     "output_type": "stream",
     "text": [
      "38096/38096 [==============================] - 47s 1ms/step - loss: 0.0014 - accuracy: 0.9998\n",
      "Epoch 17/20\n",
      "38096/38096 [==============================] - 47s 1ms/step - loss: 0.0013 - accuracy: 0.9998\n",
      "Epoch 18/20\n",
      "38096/38096 [==============================] - 46s 1ms/step - loss: 0.0015 - accuracy: 0.9998\n",
      "Epoch 19/20\n",
      "38096/38096 [==============================] - 47s 1ms/step - loss: 0.0013 - accuracy: 0.9998\n",
      "Epoch 20/20\n",
      "38096/38096 [==============================] - 46s 1ms/step - loss: 0.0012 - accuracy: 0.9998\n"
     ]
    }
   ],
   "source": [
    "metrics, conf_disps = run_sampler_batch(run_nn, over_samplers)"
   ]
  },
  {
   "cell_type": "code",
   "execution_count": 33,
   "id": "7e2f203d",
   "metadata": {},
   "outputs": [
    {
     "name": "stdout",
     "output_type": "stream",
     "text": [
      "*****************************************\n",
      "RandomOverSampler\n",
      "Accuracy Score:  0.9992020173002649\n",
      "Precision:  0.7151162790697675\n",
      "Recall:  0.825503355704698\n",
      "F1:  0.7663551401869161\n",
      "\n",
      "*****************************************\n",
      "SMOTE\n",
      "Accuracy Score:  0.9984572334471788\n",
      "Precision:  0.5078740157480315\n",
      "Recall:  0.8657718120805369\n",
      "F1:  0.6401985111662531\n",
      "\n",
      "*****************************************\n",
      "ADASYN\n",
      "Accuracy Score:  0.9989466628363497\n",
      "Precision:  0.631578947368421\n",
      "Recall:  0.8053691275167785\n",
      "F1:  0.7079646017699115\n",
      "\n",
      "*****************************************\n",
      "BorderLineSMOTE\n",
      "Accuracy Score:  0.9992764956855735\n",
      "Precision:  0.7755102040816326\n",
      "Recall:  0.7651006711409396\n",
      "F1:  0.7702702702702703\n",
      "\n"
     ]
    }
   ],
   "source": [
    "print_metrics(metrics)"
   ]
  },
  {
   "cell_type": "code",
   "execution_count": 34,
   "id": "8e59b23d",
   "metadata": {},
   "outputs": [
    {
     "name": "stdout",
     "output_type": "stream",
     "text": [
      "RandomOverSampler\n"
     ]
    },
    {
     "data": {
      "image/png": "[encoded data removed]",
      "text/plain": [
       "<Figure size 432x288 with 2 Axes>"
      ]
     },
     "metadata": {
      "needs_background": "light"
     },
     "output_type": "display_data"
    },
    {
     "name": "stdout",
     "output_type": "stream",
     "text": [
      "SMOTE\n"
     ]
    },
    {
     "data": {
      "image/png": "[encoded data removed]",
      "text/plain": [
       "<Figure size 432x288 with 2 Axes>"
      ]
     },
     "metadata": {
      "needs_background": "light"
     },
     "output_type": "display_data"
    },
    {
     "name": "stdout",
     "output_type": "stream",
     "text": [
      "ADASYN\n"
     ]
    },
    {
     "data": {
      "image/png": "[encoded data removed]",
      "text/plain": [
       "<Figure size 432x288 with 2 Axes>"
      ]
     },
     "metadata": {
      "needs_background": "light"
     },
     "output_type": "display_data"
    },
    {
     "name": "stdout",
     "output_type": "stream",
     "text": [
      "BorderLineSMOTE\n"
     ]
    },
    {
     "data": {
      "image/png": "[encoded data removed]",
      "text/plain": [
       "<Figure size 432x288 with 2 Axes>"
      ]
     },
     "metadata": {
      "needs_background": "light"
     },
     "output_type": "display_data"
    }
   ],
   "source": [
    "plot_conf_disps(conf_disps)"
   ]
  },
  {
   "cell_type": "markdown",
   "id": "aca21ced",
   "metadata": {},
   "source": [
    "### Neural Network with Undersampling"
   ]
  },
  {
   "cell_type": "code",
   "execution_count": 35,
   "id": "ccabd4a6",
   "metadata": {},
   "outputs": [],
   "source": [
    "under_samplers = [[RandomUnderSampler(random_state=42), \"RandomUnderSampler\"],\n",
    "                 [NearMiss(), \"NearMiss\"]\n",
    "                ]"
   ]
  },
  {
   "cell_type": "code",
   "execution_count": 36,
   "id": "b8d5fb68",
   "metadata": {},
   "outputs": [
    {
     "name": "stdout",
     "output_type": "stream",
     "text": [
      "RUNNING NEURAL NETWORK ON DATA:  RandomUnderSampler\n",
      "Epoch 1/20\n",
      "69/69 [==============================] - 0s 854us/step - loss: 0.5887 - accuracy: 0.8630\n",
      "Epoch 2/20\n",
      "69/69 [==============================] - 0s 1ms/step - loss: 0.3145 - accuracy: 0.9344\n",
      "Epoch 3/20\n",
      "69/69 [==============================] - 0s 1ms/step - loss: 0.2301 - accuracy: 0.9402\n",
      "Epoch 4/20\n",
      "69/69 [==============================] - 0s 1ms/step - loss: 0.1945 - accuracy: 0.9461\n",
      "Epoch 5/20\n",
      "69/69 [==============================] - 0s 1ms/step - loss: 0.1725 - accuracy: 0.9577\n",
      "Epoch 6/20\n",
      "69/69 [==============================] - 0s 1ms/step - loss: 0.1654 - accuracy: 0.9548\n",
      "Epoch 7/20\n",
      "69/69 [==============================] - 0s 1ms/step - loss: 0.1586 - accuracy: 0.9563\n",
      "Epoch 8/20\n",
      "69/69 [==============================] - 0s 1ms/step - loss: 0.1538 - accuracy: 0.9548\n",
      "Epoch 9/20\n",
      "69/69 [==============================] - 0s 1ms/step - loss: 0.1458 - accuracy: 0.9534\n",
      "Epoch 10/20\n",
      "69/69 [==============================] - 0s 1ms/step - loss: 0.1455 - accuracy: 0.9563\n",
      "Epoch 11/20\n",
      "69/69 [==============================] - 0s 1ms/step - loss: 0.1430 - accuracy: 0.9548\n",
      "Epoch 12/20\n",
      "69/69 [==============================] - 0s 1ms/step - loss: 0.1408 - accuracy: 0.9548\n",
      "Epoch 13/20\n",
      "69/69 [==============================] - 0s 1ms/step - loss: 0.1411 - accuracy: 0.9548\n",
      "Epoch 14/20\n",
      "69/69 [==============================] - 0s 2ms/step - loss: 0.1332 - accuracy: 0.9563\n",
      "Epoch 15/20\n",
      "69/69 [==============================] - 0s 2ms/step - loss: 0.1341 - accuracy: 0.9592\n",
      "Epoch 16/20\n",
      "69/69 [==============================] - 0s 2ms/step - loss: 0.1315 - accuracy: 0.9577\n",
      "Epoch 17/20\n",
      "69/69 [==============================] - 0s 1ms/step - loss: 0.1284 - accuracy: 0.9577\n",
      "Epoch 18/20\n",
      "69/69 [==============================] - 0s 2ms/step - loss: 0.1249 - accuracy: 0.9636\n",
      "Epoch 19/20\n",
      "69/69 [==============================] - 0s 2ms/step - loss: 0.1289 - accuracy: 0.9548\n",
      "Epoch 20/20\n",
      "69/69 [==============================] - 0s 2ms/step - loss: 0.1266 - accuracy: 0.9592\n",
      "RUNNING NEURAL NETWORK ON DATA:  NearMiss\n",
      "Epoch 1/20\n",
      "69/69 [==============================] - 1s 968us/step - loss: 0.5603 - accuracy: 0.8717\n",
      "Epoch 2/20\n",
      "69/69 [==============================] - 0s 1ms/step - loss: 0.3267 - accuracy: 0.9227\n",
      "Epoch 3/20\n",
      "69/69 [==============================] - 0s 1ms/step - loss: 0.2194 - accuracy: 0.9577\n",
      "Epoch 4/20\n",
      "69/69 [==============================] - 0s 1ms/step - loss: 0.1703 - accuracy: 0.9636\n",
      "Epoch 5/20\n",
      "69/69 [==============================] - 0s 1ms/step - loss: 0.1475 - accuracy: 0.9679\n",
      "Epoch 6/20\n",
      "69/69 [==============================] - 0s 1ms/step - loss: 0.1270 - accuracy: 0.9708\n",
      "Epoch 7/20\n",
      "69/69 [==============================] - 0s 1ms/step - loss: 0.1239 - accuracy: 0.9752\n",
      "Epoch 8/20\n",
      "69/69 [==============================] - 0s 1ms/step - loss: 0.1099 - accuracy: 0.9767\n",
      "Epoch 9/20\n",
      "69/69 [==============================] - 0s 1ms/step - loss: 0.1073 - accuracy: 0.9767\n",
      "Epoch 10/20\n",
      "69/69 [==============================] - 0s 2ms/step - loss: 0.1085 - accuracy: 0.9738\n",
      "Epoch 11/20\n",
      "69/69 [==============================] - 0s 2ms/step - loss: 0.1109 - accuracy: 0.9723\n",
      "Epoch 12/20\n",
      "69/69 [==============================] - 0s 2ms/step - loss: 0.1048 - accuracy: 0.9738\n",
      "Epoch 13/20\n",
      "69/69 [==============================] - 0s 1ms/step - loss: 0.0956 - accuracy: 0.9796\n",
      "Epoch 14/20\n",
      "69/69 [==============================] - 0s 1ms/step - loss: 0.0994 - accuracy: 0.9767\n",
      "Epoch 15/20\n",
      "69/69 [==============================] - 0s 1ms/step - loss: 0.0968 - accuracy: 0.9767\n",
      "Epoch 16/20\n",
      "69/69 [==============================] - 0s 2ms/step - loss: 0.1016 - accuracy: 0.9767\n",
      "Epoch 17/20\n",
      "69/69 [==============================] - 0s 2ms/step - loss: 0.1079 - accuracy: 0.9694\n",
      "Epoch 18/20\n",
      "69/69 [==============================] - 0s 2ms/step - loss: 0.1004 - accuracy: 0.9752\n",
      "Epoch 19/20\n",
      "69/69 [==============================] - 0s 1ms/step - loss: 0.0944 - accuracy: 0.9781\n",
      "Epoch 20/20\n",
      "69/69 [==============================] - 0s 2ms/step - loss: 0.0944 - accuracy: 0.9781\n"
     ]
    }
   ],
   "source": [
    "metrics, conf_disps = run_sampler_batch(run_nn, under_samplers)"
   ]
  },
  {
   "cell_type": "code",
   "execution_count": 37,
   "id": "1016ac0d",
   "metadata": {},
   "outputs": [
    {
     "name": "stdout",
     "output_type": "stream",
     "text": [
      "*****************************************\n",
      "RandomUnderSampler\n",
      "Accuracy Score:  0.9410663176822327\n",
      "Precision:  0.02435580656547829\n",
      "Recall:  0.9261744966442953\n",
      "F1:  0.047463456577815984\n",
      "\n",
      "*****************************************\n",
      "NearMiss\n",
      "Accuracy Score:  0.5532254460723292\n",
      "Precision:  0.003252920505271156\n",
      "Recall:  0.9194630872483222\n",
      "F1:  0.006482905477345322\n",
      "\n"
     ]
    }
   ],
   "source": [
    "print_metrics(metrics)"
   ]
  },
  {
   "cell_type": "code",
   "execution_count": 38,
   "id": "e672a242",
   "metadata": {},
   "outputs": [
    {
     "name": "stdout",
     "output_type": "stream",
     "text": [
      "RandomUnderSampler\n"
     ]
    },
    {
     "data": {
      "image/png": "[encoded data removed]",
      "text/plain": [
       "<Figure size 432x288 with 2 Axes>"
      ]
     },
     "metadata": {
      "needs_background": "light"
     },
     "output_type": "display_data"
    },
    {
     "name": "stdout",
     "output_type": "stream",
     "text": [
      "NearMiss\n"
     ]
    },
    {
     "data": {
      "image/png": "[encoded data removed]",
      "text/plain": [
       "<Figure size 432x288 with 2 Axes>"
      ]
     },
     "metadata": {
      "needs_background": "light"
     },
     "output_type": "display_data"
    }
   ],
   "source": [
    "plot_conf_disps(conf_disps)"
   ]
  },
  {
   "cell_type": "markdown",
   "id": "5f581644",
   "metadata": {},
   "source": [
    "## Random Forest Classifier"
   ]
  },
  {
   "cell_type": "code",
   "execution_count": 39,
   "id": "d2f56f69",
   "metadata": {},
   "outputs": [],
   "source": [
    "from sklearn.ensemble import RandomForestClassifier"
   ]
  },
  {
   "cell_type": "code",
   "execution_count": 40,
   "id": "8375d38e",
   "metadata": {},
   "outputs": [],
   "source": [
    "def run_rfc(X_tr_nn, y_tr_nn, name):\n",
    "    print(\"RUNNING RANDOM FOREST CLASSIFIER ON DATA: \", name)\n",
    "    rfc = RandomForestClassifier(random_state=42)\n",
    "    \n",
    "    rfc.fit(X_tr_nn, y_tr_nn)\n",
    "    \n",
    "    y_pred = rfc.predict(X_test_s)\n",
    "    # y_pred = np.where(y_pred > 0.5, 1, 0)\n",
    "\n",
    "    # get metrics to be printed later\n",
    "    metrics_rf = {\"name\": name, \n",
    "               \"accuracy\": accuracy_score(y_test, y_pred),\n",
    "               \"precision\": precision_score(y_test, y_pred, zero_division=False),\n",
    "               \"recall\": recall_score(y_test, y_pred),\n",
    "               \"f1\": f1_score(y_test, y_pred),\n",
    "              }\n",
    "    \n",
    "    # generate confusion matrix visualizations\n",
    "    conf_matrix = confusion_matrix(y_test, y_pred)\n",
    "    conf_disp_rf = {\"name\": name, \n",
    "                 \"disp\": ConfusionMatrixDisplay(conf_matrix)\n",
    "                 }\n",
    "    \n",
    "    # get false and true positive rates to graph later\n",
    "    \n",
    "    y_scores = cross_val_predict(rfc, X_test_s, y_test, cv=3)\n",
    "    fpr, tpr, thresholds_roc = roc_curve(y_test, y_scores)\n",
    "    roc_rf = {\"name\": name,\n",
    "           \"fpr\": fpr,\n",
    "           \"tpr\": tpr\n",
    "          }\n",
    "    \n",
    "    return metrics_rf, conf_disp_rf, roc_rf"
   ]
  },
  {
   "cell_type": "code",
   "execution_count": 41,
   "id": "2b9b71df",
   "metadata": {},
   "outputs": [
    {
     "name": "stdout",
     "output_type": "stream",
     "text": [
      "RUNNING RANDOM FOREST CLASSIFIER ON DATA:  No Sampling Method\n"
     ]
    }
   ],
   "source": [
    "metrics, conf_disps, rocs = run_sampler_batch(run_model=run_rfc, incROC=True)"
   ]
  },
  {
   "cell_type": "code",
   "execution_count": 42,
   "id": "737dd141",
   "metadata": {},
   "outputs": [
    {
     "name": "stdout",
     "output_type": "stream",
     "text": [
      "*****************************************\n",
      "No Sampling Method\n",
      "Accuracy Score:  0.9995956887654676\n",
      "Precision:  0.937007874015748\n",
      "Recall:  0.7986577181208053\n",
      "F1:  0.8623188405797101\n",
      "\n"
     ]
    }
   ],
   "source": [
    "print_metrics(metrics)"
   ]
  },
  {
   "cell_type": "code",
   "execution_count": 43,
   "id": "eb76d37e",
   "metadata": {},
   "outputs": [
    {
     "name": "stdout",
     "output_type": "stream",
     "text": [
      "No Sampling Method\n"
     ]
    },
    {
     "data": {
      "image/png": "[encoded data removed]",
      "text/plain": [
       "<Figure size 432x288 with 2 Axes>"
      ]
     },
     "metadata": {
      "needs_background": "light"
     },
     "output_type": "display_data"
    }
   ],
   "source": [
    "plot_conf_disps(conf_disps)"
   ]
  },
  {
   "cell_type": "code",
   "execution_count": 44,
   "id": "9604df56",
   "metadata": {},
   "outputs": [
    {
     "data": {
      "image/png": "[encoded data removed]",
      "text/plain": [
       "<Figure size 432x288 with 1 Axes>"
      ]
     },
     "metadata": {
      "needs_background": "light"
     },
     "output_type": "display_data"
    }
   ],
   "source": [
    "plot_rocs(rocs)"
   ]
  },
  {
   "cell_type": "markdown",
   "id": "728a63e4",
   "metadata": {},
   "source": [
    "### Random Forest Classifier with Oversampling"
   ]
  },
  {
   "cell_type": "code",
   "execution_count": 45,
   "id": "7ba112af",
   "metadata": {},
   "outputs": [],
   "source": [
    "over_samplers = [[RandomOverSampler(random_state=42), \"RandomOverSampler\"],\n",
    "                 [SMOTE(random_state=42), \"SMOTE\"],\n",
    "                 [ADASYN(random_state=42), \"ADASYN\"],\n",
    "                 [BorderlineSMOTE(random_state=42), \"BorderLineSMOTE\"]\n",
    "                ]"
   ]
  },
  {
   "cell_type": "code",
   "execution_count": 46,
   "id": "70ff8563",
   "metadata": {},
   "outputs": [
    {
     "name": "stdout",
     "output_type": "stream",
     "text": [
      "RUNNING RANDOM FOREST CLASSIFIER ON DATA:  RandomOverSampler\n",
      "RUNNING RANDOM FOREST CLASSIFIER ON DATA:  SMOTE\n",
      "RUNNING RANDOM FOREST CLASSIFIER ON DATA:  ADASYN\n",
      "RUNNING RANDOM FOREST CLASSIFIER ON DATA:  BorderLineSMOTE\n"
     ]
    }
   ],
   "source": [
    "metrics, conf_disps, rocs = run_sampler_batch(run_model=run_rfc, samplers=over_samplers, incROC=True)"
   ]
  },
  {
   "cell_type": "code",
   "execution_count": 47,
   "id": "c9fd2bfc",
   "metadata": {},
   "outputs": [
    {
     "name": "stdout",
     "output_type": "stream",
     "text": [
      "*****************************************\n",
      "RandomOverSampler\n",
      "Accuracy Score:  0.9996488876121166\n",
      "Precision:  0.9603174603174603\n",
      "Recall:  0.8120805369127517\n",
      "F1:  0.8800000000000001\n",
      "\n",
      "*****************************************\n",
      "SMOTE\n",
      "Accuracy Score:  0.999574409226808\n",
      "Precision:  0.8707482993197279\n",
      "Recall:  0.8590604026845637\n",
      "F1:  0.8648648648648649\n",
      "\n",
      "*****************************************\n",
      "ADASYN\n",
      "Accuracy Score:  0.9995105706108292\n",
      "Precision:  0.8551724137931035\n",
      "Recall:  0.8322147651006712\n",
      "F1:  0.8435374149659864\n",
      "\n",
      "*****************************************\n",
      "BorderLineSMOTE\n",
      "Accuracy Score:  0.9995956887654676\n",
      "Precision:  0.9302325581395349\n",
      "Recall:  0.8053691275167785\n",
      "F1:  0.8633093525179855\n",
      "\n"
     ]
    }
   ],
   "source": [
    "print_metrics(metrics)"
   ]
  },
  {
   "cell_type": "code",
   "execution_count": 48,
   "id": "e07ab208",
   "metadata": {},
   "outputs": [
    {
     "name": "stdout",
     "output_type": "stream",
     "text": [
      "RandomOverSampler\n"
     ]
    },
    {
     "data": {
      "image/png": "[encoded data removed]",
      "text/plain": [
       "<Figure size 432x288 with 2 Axes>"
      ]
     },
     "metadata": {
      "needs_background": "light"
     },
     "output_type": "display_data"
    },
    {
     "name": "stdout",
     "output_type": "stream",
     "text": [
      "SMOTE\n"
     ]
    },
    {
     "data": {
      "image/png": "[encoded data removed]",
      "text/plain": [
       "<Figure size 432x288 with 2 Axes>"
      ]
     },
     "metadata": {
      "needs_background": "light"
     },
     "output_type": "display_data"
    },
    {
     "name": "stdout",
     "output_type": "stream",
     "text": [
      "ADASYN\n"
     ]
    },
    {
     "data": {
      "image/png": "[encoded data removed]",
      "text/plain": [
       "<Figure size 432x288 with 2 Axes>"
      ]
     },
     "metadata": {
      "needs_background": "light"
     },
     "output_type": "display_data"
    },
    {
     "name": "stdout",
     "output_type": "stream",
     "text": [
      "BorderLineSMOTE\n"
     ]
    },
    {
     "data": {
      "image/png": "[encoded data removed]",
      "text/plain": [
       "<Figure size 432x288 with 2 Axes>"
      ]
     },
     "metadata": {
      "needs_background": "light"
     },
     "output_type": "display_data"
    }
   ],
   "source": [
    "plot_conf_disps(conf_disps)"
   ]
  },
  {
   "cell_type": "code",
   "execution_count": 49,
   "id": "73868ee3",
   "metadata": {},
   "outputs": [
    {
     "data": {
      "image/png": "[encoded data removed]",
      "text/plain": [
       "<Figure size 432x288 with 1 Axes>"
      ]
     },
     "metadata": {
      "needs_background": "light"
     },
     "output_type": "display_data"
    },
    {
     "data": {
      "image/png": "[encoded data removed]",
      "text/plain": [
       "<Figure size 432x288 with 1 Axes>"
      ]
     },
     "metadata": {
      "needs_background": "light"
     },
     "output_type": "display_data"
    },
    {
     "data": {
      "image/png": "[encoded data removed]",
      "text/plain": [
       "<Figure size 432x288 with 1 Axes>"
      ]
     },
     "metadata": {
      "needs_background": "light"
     },
     "output_type": "display_data"
    },
    {
     "data": {
      "image/png": "[encoded data removed]",
      "text/plain": [
       "<Figure size 432x288 with 1 Axes>"
      ]
     },
     "metadata": {
      "needs_background": "light"
     },
     "output_type": "display_data"
    }
   ],
   "source": [
    "plot_rocs(rocs)"
   ]
  },
  {
   "cell_type": "markdown",
   "id": "8db87141",
   "metadata": {},
   "source": [
    "### Random Forest Classifier with Undersampling"
   ]
  },
  {
   "cell_type": "code",
   "execution_count": 50,
   "id": "d7c78974",
   "metadata": {},
   "outputs": [],
   "source": [
    "under_samplers = [[RandomUnderSampler(random_state=42), \"RandomUnderSampler\"],\n",
    "                 [NearMiss(), \"NearMiss\"]\n",
    "                ]"
   ]
  },
  {
   "cell_type": "code",
   "execution_count": 51,
   "id": "c5c8141a",
   "metadata": {},
   "outputs": [
    {
     "name": "stdout",
     "output_type": "stream",
     "text": [
      "RUNNING RANDOM FOREST CLASSIFIER ON DATA:  RandomUnderSampler\n",
      "RUNNING RANDOM FOREST CLASSIFIER ON DATA:  NearMiss\n"
     ]
    }
   ],
   "source": [
    "metrics, conf_disps, rocs = run_sampler_batch(run_model=run_rfc, samplers=under_samplers, incROC=True)"
   ]
  },
  {
   "cell_type": "code",
   "execution_count": 52,
   "id": "1e620898",
   "metadata": {},
   "outputs": [
    {
     "name": "stdout",
     "output_type": "stream",
     "text": [
      "*****************************************\n",
      "RandomUnderSampler\n",
      "Accuracy Score:  0.967559343313437\n",
      "Precision:  0.04373820012586532\n",
      "Recall:  0.9328859060402684\n",
      "F1:  0.08355876164712954\n",
      "\n",
      "*****************************************\n",
      "NearMiss\n",
      "Accuracy Score:  0.0606573249491951\n",
      "Precision:  0.0016623129897886488\n",
      "Recall:  0.9865771812080537\n",
      "F1:  0.0033190336419056223\n",
      "\n"
     ]
    }
   ],
   "source": [
    "print_metrics(metrics)"
   ]
  },
  {
   "cell_type": "code",
   "execution_count": 53,
   "id": "74b37e81",
   "metadata": {},
   "outputs": [
    {
     "name": "stdout",
     "output_type": "stream",
     "text": [
      "RandomUnderSampler\n"
     ]
    },
    {
     "data": {
      "image/png": "[encoded data removed]",
      "text/plain": [
       "<Figure size 432x288 with 2 Axes>"
      ]
     },
     "metadata": {
      "needs_background": "light"
     },
     "output_type": "display_data"
    },
    {
     "name": "stdout",
     "output_type": "stream",
     "text": [
      "NearMiss\n"
     ]
    },
    {
     "data": {
      "image/png": "[encoded data removed]",
      "text/plain": [
       "<Figure size 432x288 with 2 Axes>"
      ]
     },
     "metadata": {
      "needs_background": "light"
     },
     "output_type": "display_data"
    }
   ],
   "source": [
    "plot_conf_disps(conf_disps)"
   ]
  },
  {
   "cell_type": "code",
   "execution_count": 54,
   "id": "c6e06ce6",
   "metadata": {},
   "outputs": [
    {
     "data": {
      "image/png": "[encoded data removed]",
      "text/plain": [
       "<Figure size 432x288 with 1 Axes>"
      ]
     },
     "metadata": {
      "needs_background": "light"
     },
     "output_type": "display_data"
    },
    {
     "data": {
      "image/png": "[encoded data removed]",
      "text/plain": [
       "<Figure size 432x288 with 1 Axes>"
      ]
     },
     "metadata": {
      "needs_background": "light"
     },
     "output_type": "display_data"
    }
   ],
   "source": [
    "plot_rocs(rocs)"
   ]
  }
 ],
 "metadata": {
  "kernelspec": {
   "display_name": "Python 3 (ipykernel)",
   "language": "python",
   "name": "python3"
  },
  "language_info": {
   "codemirror_mode": {
    "name": "ipython",
    "version": 3
   },
   "file_extension": ".py",
   "mimetype": "text/x-python",
   "name": "python",
   "nbconvert_exporter": "python",
   "pygments_lexer": "ipython3",
   "version": "3.9.7"
  }
 },
 "nbformat": 4,
 "nbformat_minor": 5
}
